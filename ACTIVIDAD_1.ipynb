{
  "nbformat": 4,
  "nbformat_minor": 0,
  "metadata": {
    "colab": {
      "provenance": [],
      "authorship_tag": "ABX9TyNJmcAEgq6dGtQ3TmGxueCB",
      "include_colab_link": true
    },
    "kernelspec": {
      "name": "python3",
      "display_name": "Python 3"
    },
    "language_info": {
      "name": "python"
    }
  },
  "cells": [
    {
      "cell_type": "markdown",
      "metadata": {
        "id": "view-in-github",
        "colab_type": "text"
      },
      "source": [
        "<a href=\"https://colab.research.google.com/github/LuisaMariaMontoyaConde1994/TrabajoClaseestadistica/blob/main/ACTIVIDAD_1.ipynb\" target=\"_parent\"><img src=\"https://colab.research.google.com/assets/colab-badge.svg\" alt=\"Open In Colab\"/></a>"
      ]
    },
    {
      "cell_type": "markdown",
      "source": [
        "**David Santiago Guio Garcia**"
      ],
      "metadata": {
        "id": "LMZ1B3FlONTF"
      }
    },
    {
      "cell_type": "code",
      "source": [
        "import numpy as np\n",
        "import matplotlib.pyplot as plt\n",
        "from scipy.stats import binom"
      ],
      "metadata": {
        "id": "AOfPjW5IB36H"
      },
      "execution_count": 1,
      "outputs": []
    },
    {
      "cell_type": "markdown",
      "source": [
        "En una elección, un candidato tiene una probabilidad del $60\\%$ de recibir un voto en cada votación individual. Si se emiten 20 votos.\n",
        "\n",
        "\n",
        "1.   ¿Cuál es la probabilidad de que al menos obtenga 12 votos?\n",
        "2.   ¿Cuál es la probabilidad de que lo más obtenga 5 votos?\n",
        "3.  ¿Cuál es la probabilidd de que no obtenga votos.\n",
        "4.  ¿Cuál es la probabilidad de que obtenga entre 8 y 10 votos?"
      ],
      "metadata": {
        "id": "yrQ75-tVDPJM"
      }
    },
    {
      "cell_type": "markdown",
      "source": [
        "1.¿Cual es la probabilidad que al menos obtenga 12 votos?\n",
        "$$p(X=12 )=\\binom{20}{12}(0.6)^{12}(0.6)^{20-12} $$\n",
        "$$\\approx 0.58$$\n",
        "$$\\approx 0.58(100\\%)=58\\%$$\n",
        "\n",
        "\n",
        "$$P(X≥12)=1−P(X<12)$$"
      ],
      "metadata": {
        "id": "oUXZD5ldDhjN"
      }
    },
    {
      "cell_type": "code",
      "source": [
        "n=20\n",
        "p=0.6\n",
        "x=12\n",
        "prob=1-binom.cdf(x-1,n,p)\n",
        "print(prob)\n",
        "m=prob*100\n",
        "print('La probabilidad es',m,'%')"
      ],
      "metadata": {
        "colab": {
          "base_uri": "https://localhost:8080/"
        },
        "id": "Nc9g38xvFXR0",
        "outputId": "ab8a516a-04a5-47bc-ad7a-a62337e9798c"
      },
      "execution_count": 3,
      "outputs": [
        {
          "output_type": "stream",
          "name": "stdout",
          "text": [
            "0.5955987253122248\n",
            "La probabilidad es 59.55987253122248 %\n"
          ]
        }
      ]
    },
    {
      "cell_type": "markdown",
      "source": [
        "La probabilidad de que obtenga 12 votos es de 59%"
      ],
      "metadata": {
        "id": "v1L_fC7eKIe2"
      }
    },
    {
      "cell_type": "markdown",
      "source": [
        "2.   ¿Cuál es la probabilidad de que lo más obtenga 5 votos?\n",
        "$$P(X\\leq 5)$$"
      ],
      "metadata": {
        "id": "3iNNXSKaFvfE"
      }
    },
    {
      "cell_type": "code",
      "source": [
        "n=20\n",
        "p=0.6\n",
        "x=5\n",
        "prob=binom.cdf(x,n,p)\n",
        "print(prob)\n",
        "m=prob*100\n",
        "print('La probabilidad es',m,'%')"
      ],
      "metadata": {
        "colab": {
          "base_uri": "https://localhost:8080/"
        },
        "id": "x79N4HUxGCwt",
        "outputId": "d3a5e8c6-f418-46dd-d2a6-ad3773c71b31"
      },
      "execution_count": 4,
      "outputs": [
        {
          "output_type": "stream",
          "name": "stdout",
          "text": [
            "0.001611524643456288\n",
            "La probabilidad es 0.1611524643456288 %\n"
          ]
        }
      ]
    },
    {
      "cell_type": "markdown",
      "source": [
        "la probabilidad de que obtenga 5 votos es de 16%"
      ],
      "metadata": {
        "id": "GdaF5VJXK631"
      }
    },
    {
      "cell_type": "markdown",
      "source": [
        "3.  ¿Cuál es la probabilidad de que no obtenga votos.\n",
        "$$P(x=0)=\\binom{20}{0}(0.6)^{0}(0.4)^{20-0}$$\n",
        "$$\\approx 1.0995116277760013e-08 $$\n",
        "$$\\approx 1.0995116277760013e-08(100\\%)=1.09e\\%$$"
      ],
      "metadata": {
        "id": "DWZncXAIG3YN"
      }
    },
    {
      "cell_type": "code",
      "source": [
        "n=20\n",
        "p=0.6\n",
        "x=0\n",
        "prob=binom.cdf(x,n,p)\n",
        "print(prob)\n",
        "m=prob*100\n",
        "print('La probabilidad es',m,'%')"
      ],
      "metadata": {
        "colab": {
          "base_uri": "https://localhost:8080/"
        },
        "id": "3mxpT586Hhp9",
        "outputId": "a7e02feb-4f4b-400d-b2d8-032c9e2e5885"
      },
      "execution_count": 20,
      "outputs": [
        {
          "output_type": "stream",
          "name": "stdout",
          "text": [
            "1.0995116277760013e-08\n",
            "La probabilidad es 1.0995116277760013e-06 %\n"
          ]
        }
      ]
    },
    {
      "cell_type": "markdown",
      "source": [
        "La probabilidad de que no obte nga votos es de 1.09%"
      ],
      "metadata": {
        "id": "UJeW9mUFLOKk"
      }
    },
    {
      "cell_type": "markdown",
      "source": [
        "4.  ¿Cuál es la probabilidad de que obtenga entre 8 y 10 votos?\n",
        "$$P(8\\leq p(X) \\leq 10)$$"
      ],
      "metadata": {
        "id": "InXYlb8PHiAt"
      }
    },
    {
      "cell_type": "code",
      "source": [
        "n=20\n",
        "p=0.6\n",
        "x=8\n",
        "prob=binom.cdf(x,n,p)\n",
        "print(prob)\n",
        "m=prob*100\n",
        "print('La probabilidad es',m,'%')"
      ],
      "metadata": {
        "colab": {
          "base_uri": "https://localhost:8080/"
        },
        "id": "g5ehDF0oJbft",
        "outputId": "7378c905-aa0f-44d6-fa71-0229edb47b51"
      },
      "execution_count": 12,
      "outputs": [
        {
          "output_type": "stream",
          "name": "stdout",
          "text": [
            "0.056526367034253025\n",
            "La probabilidad es 5.652636703425302 %\n"
          ]
        }
      ]
    },
    {
      "cell_type": "code",
      "source": [
        "n=20\n",
        "p=0.6\n",
        "x=10\n",
        "prob=binom.cdf(x,n,p)\n",
        "print(prob)\n",
        "t=prob*100\n",
        "print('La probabilidad es',t,'%')"
      ],
      "metadata": {
        "colab": {
          "base_uri": "https://localhost:8080/"
        },
        "id": "P7MCeSa2JmYd",
        "outputId": "e6ecfa86-c728-4be4-bd3c-92220a1496c1"
      },
      "execution_count": 11,
      "outputs": [
        {
          "output_type": "stream",
          "name": "stdout",
          "text": [
            "0.24466279668360685\n",
            "La probabilidad es 24.466279668360684 %\n"
          ]
        }
      ]
    },
    {
      "cell_type": "code",
      "source": [
        "r=t-m\n",
        "print(r)\n"
      ],
      "metadata": {
        "colab": {
          "base_uri": "https://localhost:8080/"
        },
        "id": "xTmH3HT4J31V",
        "outputId": "0b72f91d-ab74-4102-da58-f2cb11fd27e0"
      },
      "execution_count": 19,
      "outputs": [
        {
          "output_type": "stream",
          "name": "stdout",
          "text": [
            "18.813642964935383\n"
          ]
        }
      ]
    },
    {
      "cell_type": "markdown",
      "source": [
        "la probabilidad de que obtenga entre 8 y 10 es de 18%"
      ],
      "metadata": {
        "id": "dPnLo-SRNv3t"
      }
    }
  ]
}