{
  "nbformat": 4,
  "nbformat_minor": 0,
  "metadata": {
    "colab": {
      "provenance": [],
      "authorship_tag": "ABX9TyPbWB1DCSurnLh0fHWinHJs",
      "include_colab_link": true
    },
    "kernelspec": {
      "name": "python3",
      "display_name": "Python 3"
    },
    "language_info": {
      "name": "python"
    }
  },
  "cells": [
    {
      "cell_type": "markdown",
      "metadata": {
        "id": "view-in-github",
        "colab_type": "text"
      },
      "source": [
        "<a href=\"https://colab.research.google.com/github/LuisaMariaMontoyaConde1994/TrabajoClaseestadistica/blob/main/ACTIVIDAD_1.ipynb\" target=\"_parent\"><img src=\"https://colab.research.google.com/assets/colab-badge.svg\" alt=\"Open In Colab\"/></a>"
      ]
    },
    {
      "cell_type": "markdown",
      "source": [
        "Javier Alejandro Aristizabal Gomez"
      ],
      "metadata": {
        "id": "b2nVif-2I-P6"
      }
    },
    {
      "cell_type": "code",
      "execution_count": 1,
      "metadata": {
        "id": "YemMmx2JI3vA"
      },
      "outputs": [],
      "source": [
        "import numpy as np\n",
        "import matplotlib.pyplot as plt\n",
        "from scipy.stats import binom"
      ]
    },
    {
      "cell_type": "markdown",
      "source": [
        "En una elección, un candidato tiene una probabilidad del $60\\%$ de recibir un voto en cada votación individual. Si se emiten 20 votos.\n",
        "\n",
        "\n",
        "1.   ¿Cuál es la probabilidad de que al menos obtenga 12 votos?\n",
        "2.   ¿Cuál es la probabilidad de que lo más obtenga 5 votos?\n",
        "3.  ¿Cuál es la probabilidd de que no obtenga votos.\n",
        "4.  ¿Cuál es la probabilidad de que obtenga entre 8 y 10 votos?"
      ],
      "metadata": {
        "id": "YvmaHOXRBIok"
      }
    },
    {
      "cell_type": "code",
      "source": [
        "n= 20\n",
        "x= 12\n",
        "p= 0.6\n",
        "prob=1-binom.cdf(x-1,n,p)\n",
        "print(prob)\n",
        "m=prob*100\n",
        "print('la probabilidad es',m,'%')"
      ],
      "metadata": {
        "id": "y3ckmCBXCFT7",
        "colab": {
          "base_uri": "https://localhost:8080/"
        },
        "outputId": "53f41b1d-100d-4692-b82d-37d6fd603f32"
      },
      "execution_count": 13,
      "outputs": [
        {
          "output_type": "stream",
          "name": "stdout",
          "text": [
            "0.5955987253122248\n",
            "la probabilidad es 59.55987253122248 %\n"
          ]
        }
      ]
    },
    {
      "cell_type": "markdown",
      "source": [
        "la probabilidad de qie al menos obtenga 12 votos es de 59.55%\n",
        "$$P(X\\geq 12)=1-P(X< 12)$$\n"
      ],
      "metadata": {
        "id": "QmeVDMq1JrWr"
      }
    },
    {
      "cell_type": "code",
      "source": [
        "n= 20\n",
        "x= 5\n",
        "p= 0.6\n",
        "prob=binom.cdf(x,n,p)\n",
        "print(prob)\n",
        "m=prob*100\n",
        "print('la probabilidad es',m,'%')"
      ],
      "metadata": {
        "colab": {
          "base_uri": "https://localhost:8080/"
        },
        "outputId": "dfb5dac9-1c36-4a31-e2b6-67b4e8da8754",
        "id": "PLnrwpf6KTa8"
      },
      "execution_count": 14,
      "outputs": [
        {
          "output_type": "stream",
          "name": "stdout",
          "text": [
            "0.001611524643456288\n",
            "la probabilidad es 0.1611524643456288 %\n"
          ]
        }
      ]
    },
    {
      "cell_type": "markdown",
      "source": [
        "la probabilidad de que lo mas obtenga 5 votos es 0.16%"
      ],
      "metadata": {
        "id": "B9qLhG8bKeBM"
      }
    },
    {
      "cell_type": "code",
      "source": [
        "n= 20\n",
        "x= 12\n",
        "p= 0.6\n",
        "prob=binom.cdf(x,n,p)\n",
        "print(prob)\n",
        "m=prob*100\n",
        "print('la probabilidad es',m,'%')"
      ],
      "metadata": {
        "colab": {
          "base_uri": "https://localhost:8080/"
        },
        "outputId": "282a4529-f11d-466b-9e7b-40643245411d",
        "id": "-aHkAilaLNEN"
      },
      "execution_count": 16,
      "outputs": [
        {
          "output_type": "stream",
          "name": "stdout",
          "text": [
            "1.0995116277760013e-08\n",
            "la probabilidad es 1.0995116277760013e-06 %\n"
          ]
        }
      ]
    },
    {
      "cell_type": "markdown",
      "source": [
        "La probabilidad de sacar 0 votos es del 1.09%"
      ],
      "metadata": {
        "id": "kGD8qSdwNWLv"
      }
    },
    {
      "cell_type": "code",
      "source": [
        "n= 20\n",
        "x= 10\n",
        "p= 0.6\n",
        "prob=binom.cdf(x,n,p)\n",
        "print(prob)\n",
        "m=prob*100\n",
        "print('la probabilidad es',m,'%')"
      ],
      "metadata": {
        "colab": {
          "base_uri": "https://localhost:8080/"
        },
        "outputId": "1285bfac-1776-406c-d407-7fe7515eee46",
        "id": "TDFCU1pgN4NE"
      },
      "execution_count": 17,
      "outputs": [
        {
          "output_type": "stream",
          "name": "stdout",
          "text": [
            "0.24466279668360685\n",
            "la probabilidad es 24.466279668360684 %\n"
          ]
        }
      ]
    },
    {
      "cell_type": "markdown",
      "source": [
        "La probabilidad es del 24%"
      ],
      "metadata": {
        "id": "qO-WTyUyOIpr"
      }
    },
    {
      "cell_type": "markdown",
      "source": [],
      "metadata": {
        "id": "PQ4HhBNiPRFZ"
      }
    },
    {
      "cell_type": "markdown",
      "source": [
        "¿Cuál es la probabilidad que al menos $10$ sobrevivan?\n",
        "\n",
        "$$P(X\\geq 10)=1-P(X<10)$$"
      ],
      "metadata": {
        "id": "SP1Y_ivR4y2h"
      }
    },
    {
      "cell_type": "code",
      "source": [
        "n= 20\n",
        "x= 10\n",
        "p= 0.6\n",
        "prob=binom.cdf(x,n,p)\n",
        "print(prob)\n",
        "m=prob*100\n",
        "print('la probabilidad es',m,'%')"
      ],
      "metadata": {
        "colab": {
          "base_uri": "https://localhost:8080/"
        },
        "outputId": "1285bfac-1776-406c-d407-7fe7515eee46",
        "id": "SXJkaeAzOiL1"
      },
      "execution_count": null,
      "outputs": [
        {
          "output_type": "stream",
          "name": "stdout",
          "text": [
            "0.24466279668360685\n",
            "la probabilidad es 24.466279668360684 %\n"
          ]
        }
      ]
    },
    {
      "cell_type": "code",
      "source": [
        "n= 20\n",
        "x= 8\n",
        "p= 0.6\n",
        "prob=binom.cdf(x,n,p)\n",
        "print(prob)\n",
        "Y=prob*100\n",
        "print('la probabilidad es',Y,'%')"
      ],
      "metadata": {
        "colab": {
          "base_uri": "https://localhost:8080/"
        },
        "id": "V10R4SnvPbUG",
        "outputId": "0b10f1e1-52ec-4b92-aefa-eff6463b15cb"
      },
      "execution_count": 18,
      "outputs": [
        {
          "output_type": "stream",
          "name": "stdout",
          "text": [
            "0.056526367034253025\n",
            "la probabilidad es 5.652636703425302 %\n"
          ]
        }
      ]
    },
    {
      "cell_type": "code",
      "source": [
        "G=m-Y\n",
        "print(G)"
      ],
      "metadata": {
        "colab": {
          "base_uri": "https://localhost:8080/"
        },
        "id": "JnpJwyxiPno7",
        "outputId": "40a8d343-c441-407e-fe54-9e5fd684bb27"
      },
      "execution_count": 19,
      "outputs": [
        {
          "output_type": "stream",
          "name": "stdout",
          "text": [
            "18.813642964935383\n"
          ]
        }
      ]
    },
    {
      "cell_type": "markdown",
      "source": [
        "l POSIBILIDAD DE 10 ENTRE 8 ES DE 18%"
      ],
      "metadata": {
        "id": "9Ic9lmeIPyVh"
      }
    }
  ]
}