{
  "nbformat": 4,
  "nbformat_minor": 0,
  "metadata": {
    "colab": {
      "provenance": [],
      "authorship_tag": "ABX9TyPjoGnivpa8KgZRfhRHYzKS",
      "include_colab_link": true
    },
    "kernelspec": {
      "name": "python3",
      "display_name": "Python 3"
    },
    "language_info": {
      "name": "python"
    }
  },
  "cells": [
    {
      "cell_type": "markdown",
      "metadata": {
        "id": "view-in-github",
        "colab_type": "text"
      },
      "source": [
        "<a href=\"https://colab.research.google.com/github/LuisaMariaMontoyaConde1994/TrabajoClaseestadistica/blob/main/distribucion_probabilidad_continua_jhon_mario_garro.ipynb\" target=\"_parent\"><img src=\"https://colab.research.google.com/assets/colab-badge.svg\" alt=\"Open In Colab\"/></a>"
      ]
    },
    {
      "cell_type": "code",
      "execution_count": null,
      "metadata": {
        "id": "-uGhPyPEOeTz"
      },
      "outputs": [],
      "source": []
    },
    {
      "cell_type": "markdown",
      "source": [],
      "metadata": {
        "id": "Hrnf71EfP6Pf"
      }
    },
    {
      "cell_type": "markdown",
      "source": [
        "# $$f(x)= \\left\\{ \\begin{array}{lcc} \\frac{2}{5}(x+2) & si & 0<x<1 \\\\ \\\\ 0 & & en \\ otro\\ caso & & \\end{array} \\right.$$ $$\\int_{-\\infty}^{\\infty}f(x)dx=\\int_{0}^{1}\\frac{2}{5}(x+2)dx$$"
      ],
      "metadata": {
        "id": "esGygwS_z4ex"
      }
    },
    {
      "cell_type": "markdown",
      "source": [
        "# $$f(x)= \\left\\{ \\begin{array}{lcc} \\frac{2}{5}(x+2) & si & 0<x<1 \\\\ \\\\ 0 & & en \\ otro\\ caso & & \\end{array} \\right.$$ $$\\int_{-\\infty}^{\\infty}f(x)dx=\\int_{0}^{1}\\frac{2}{5}(x+2)dx$$\n",
        "\n",
        "#Evaluación de la integral definida en el intervalo 0<X<1:\n",
        "\n",
        "\n",
        "$$\\begin{equation}\n",
        "f(x) = \\int_{1}^{0}\\frac{2}{5}(x+2)dx\\end{equation}$$\n",
        "#-\n",
        "\n",
        "$$\\begin{equation}\n",
        "f(x) =\\frac{2}{5}\\int_{1}^{0}(x+2)dx\\end{equation}$$\n",
        "\n",
        "#-\n",
        "\n",
        "\n",
        "$$\\begin{equation}\n",
        "f(x) =\\frac{2}{5}(\\int_{1}^{0}X dx\\int_{1}^{0}2dx)\\end{equation}$$\n",
        "\n",
        "#-\n",
        "\n",
        "$$\\begin{equation}\n",
        "f(x) =\\frac{2}{5}(\\frac{1}{2}+2)\\end{equation}$$\n",
        "\n",
        "#-\n",
        "\n",
        "$$\\begin{equation}\n",
        "f(x) =\\frac{2}{5}(\\frac{5}{2})=1\\end{equation}$$\n",
        "\n",
        "# la integral\n",
        "\n",
        "$$\\begin{equation}\n",
        "\\int_{-\\infty}^{\\infty}f(x)dx=\\int_{0}^{1}\\frac{2}{5}(x+2)dx\\end{equation}$$\n",
        "#-\n",
        "$$\\begin{equation}\n",
        "\\int_{-\\infty}^{\\infty}f(x)dx=1\\end{equation}$$\n",
        "\n",
        "\n",
        "\n",
        "#Evaluar en\n",
        "\n",
        "$$\\begin{equation}\n",
        "\\frac{1}{2}<x <\\frac{ 1}{4 }\\end{equation}$$\n",
        "\n",
        "#-\n",
        "\n",
        "$$\\begin{equation}=\n",
        "\\frac{1}{2}x^2+\\frac{4}{5}x \\rvert_\\frac{1}{4}^\\frac{1}{2}= \\frac{1}{5}(\\frac{1}{2})^2+\\frac{4}{5}(\\frac{1}{2})-\\frac{1}{5}(\\frac{1}{4})^2+\\frac{4}{5}(\\frac{1}{4})=\\frac{19}{80}=0,2375\\end{equation}$$\n"
      ],
      "metadata": {
        "id": "OnDOo0gLtOB-"
      }
    }
  ]
}