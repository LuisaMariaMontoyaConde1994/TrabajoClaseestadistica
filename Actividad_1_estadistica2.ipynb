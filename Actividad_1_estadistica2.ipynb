{
  "nbformat": 4,
  "nbformat_minor": 0,
  "metadata": {
    "colab": {
      "provenance": [],
      "authorship_tag": "ABX9TyNO7028Ox0TwcSk/spQPSqj",
      "include_colab_link": true
    },
    "kernelspec": {
      "name": "python3",
      "display_name": "Python 3"
    },
    "language_info": {
      "name": "python"
    }
  },
  "cells": [
    {
      "cell_type": "markdown",
      "metadata": {
        "id": "view-in-github",
        "colab_type": "text"
      },
      "source": [
        "<a href=\"https://colab.research.google.com/github/LuisaMariaMontoyaConde1994/TrabajoClaseestadistica/blob/main/Actividad_1_estadistica2.ipynb\" target=\"_parent\"><img src=\"https://colab.research.google.com/assets/colab-badge.svg\" alt=\"Open In Colab\"/></a>"
      ]
    },
    {
      "cell_type": "markdown",
      "source": [
        "YEISON DAVID LEON HERNADEZ"
      ],
      "metadata": {
        "id": "HPaCk85pJhXK"
      }
    },
    {
      "cell_type": "code",
      "source": [
        "import numpy as np\n",
        "import matplotlib.pyplot as plt\n",
        "from scipy.stats import binom"
      ],
      "metadata": {
        "id": "RGaYCJJfCaA8"
      },
      "execution_count": 2,
      "outputs": []
    },
    {
      "cell_type": "markdown",
      "source": [
        "En una elección, un candidato tiene una probabilidad del $60\\%$ de recibir un voto en cada votación individual. Si se emiten 20 votos.\n",
        "\n",
        "1.   ¿Cuál es la probabilidad de que al menos obtenga 12 votos?\n",
        "2.   ¿Cuál es la probabilidad de que lo más obtenga 5 votos?\n",
        "3.  ¿Cuál es la probabilidd de que no obtenga votos.\n",
        "4.  ¿Cuál es la probabilidad de que obtenga entre 8 y 10 votos?\n"
      ],
      "metadata": {
        "id": "r8qKuJqXBJoK"
      }
    },
    {
      "cell_type": "markdown",
      "source": [
        "¿Cuál es la probabilidad de que al menos obtenga 12 votos?"
      ],
      "metadata": {
        "id": "BYCT2WFIB2Wb"
      }
    },
    {
      "cell_type": "code",
      "source": [
        "n=20\n",
        "p=0.6\n",
        "x=12\n",
        "b=1-binom.cdf(x-1,n,p)\n",
        "print(b)\n",
        "m=b*100\n",
        "print('la probabilidad es',m,'%')"
      ],
      "metadata": {
        "colab": {
          "base_uri": "https://localhost:8080/"
        },
        "id": "HOk5oAlXBn2l",
        "outputId": "779bb3ba-45a7-4509-91bc-e34c628f2fee"
      },
      "execution_count": 6,
      "outputs": [
        {
          "output_type": "stream",
          "name": "stdout",
          "text": [
            "0.5955987253122248\n",
            "la probabilidad es 59.55987253122248 %\n"
          ]
        }
      ]
    },
    {
      "cell_type": "markdown",
      "source": [
        " la probabilidad de que al menos obtenga 12 votos es del 59%"
      ],
      "metadata": {
        "id": "osSbkLOLEq20"
      }
    },
    {
      "cell_type": "markdown",
      "source": [
        "\n",
        "¿Cuál es la probabilidad de que a lo más obtenga 5 votos?\n"
      ],
      "metadata": {
        "id": "Yc-zFaQyDPRU"
      }
    },
    {
      "cell_type": "code",
      "source": [
        "n=20\n",
        "p=0.6\n",
        "x=5\n",
        "p=binom.cdf(x,n,p)\n",
        "m=p*100\n",
        "print(p)\n",
        "print('la probabilidad es es',m,'%')"
      ],
      "metadata": {
        "colab": {
          "base_uri": "https://localhost:8080/"
        },
        "id": "Wc7qVAe7DXOU",
        "outputId": "fc359f64-e1b7-4db3-af64-f4ad5437d19f"
      },
      "execution_count": 7,
      "outputs": [
        {
          "output_type": "stream",
          "name": "stdout",
          "text": [
            "0.001611524643456288\n",
            "la probabilidad es es 0.1611524643456288 %\n"
          ]
        }
      ]
    },
    {
      "cell_type": "markdown",
      "source": [
        " la probabilidad de que a lo más obtenga 5 votos es de 0.16%"
      ],
      "metadata": {
        "id": "Wl3p1wiGEpSM"
      }
    },
    {
      "cell_type": "markdown",
      "source": [
        "¿Cuál es la probabilidd de que no obtenga votos?"
      ],
      "metadata": {
        "id": "AbRJZhWOG3X4"
      }
    },
    {
      "cell_type": "code",
      "source": [
        "n=20\n",
        "p=0.6\n",
        "x=0\n",
        "p=binom.pmf(x,n,p)\n",
        "m=p*100\n",
        "print(p)\n",
        "print('la probabilidad es es',m,'%')"
      ],
      "metadata": {
        "colab": {
          "base_uri": "https://localhost:8080/"
        },
        "id": "UfWLW0rpEGgl",
        "outputId": "e68f79cd-2665-4818-d4aa-650a754d0edb"
      },
      "execution_count": 8,
      "outputs": [
        {
          "output_type": "stream",
          "name": "stdout",
          "text": [
            "1.0995116277760013e-08\n",
            "la probabilidad es es 1.0995116277760013e-06 %\n"
          ]
        }
      ]
    },
    {
      "cell_type": "markdown",
      "source": [
        "la probabilidd de que no obtenga votos es  1.0995116277760013e-06 %"
      ],
      "metadata": {
        "id": "Ra0AQf0EEsFl"
      }
    },
    {
      "cell_type": "markdown",
      "source": [
        "¿Cuál es la probabilidad de que obtenga entre 8 y 10 votos?\n"
      ],
      "metadata": {
        "id": "oYy7Mcs0Ew_F"
      }
    },
    {
      "cell_type": "code",
      "source": [
        "n=20\n",
        "p=0.6\n",
        "x=10\n",
        "p=binom.cdf(x,n,p)\n",
        "m=p*100\n",
        "print(p)\n",
        "print('la probabilidad es es',m,'%')"
      ],
      "metadata": {
        "colab": {
          "base_uri": "https://localhost:8080/"
        },
        "id": "XYJ_ROswFkP3",
        "outputId": "5a832815-7ac8-428e-fd77-0ac9c1606a5b"
      },
      "execution_count": 11,
      "outputs": [
        {
          "output_type": "stream",
          "name": "stdout",
          "text": [
            "0.24466279668360685\n",
            "la probabilidad es es 24.466279668360684 %\n"
          ]
        }
      ]
    },
    {
      "cell_type": "markdown",
      "source": [],
      "metadata": {
        "id": "46veLUA4JfV9"
      }
    },
    {
      "cell_type": "code",
      "source": [
        "n=20\n",
        "p=0.6\n",
        "x=8\n",
        "p=binom.cdf(x,n,p)\n",
        "m=p*100\n",
        "print(p)\n",
        "print('la probabilidad es es',m,'%')"
      ],
      "metadata": {
        "colab": {
          "base_uri": "https://localhost:8080/"
        },
        "id": "6WjgYsZgFxxW",
        "outputId": "5b013053-8368-4d68-df02-047ca5eb0e05"
      },
      "execution_count": 12,
      "outputs": [
        {
          "output_type": "stream",
          "name": "stdout",
          "text": [
            "0.056526367034253025\n",
            "la probabilidad es es 5.652636703425302 %\n"
          ]
        }
      ]
    },
    {
      "cell_type": "code",
      "source": [
        "(0.24466279668360685-0.056526367034253025)*100\n"
      ],
      "metadata": {
        "colab": {
          "base_uri": "https://localhost:8080/"
        },
        "id": "JWAC6y7LF11d",
        "outputId": "173ab82e-8984-4abd-ea0d-9af7ee3a3b31"
      },
      "execution_count": 18,
      "outputs": [
        {
          "output_type": "execute_result",
          "data": {
            "text/plain": [
              "18.813642964935383"
            ]
          },
          "metadata": {},
          "execution_count": 18
        }
      ]
    },
    {
      "cell_type": "markdown",
      "source": [
        " la probabilidad de que obtenga entre 8 y 10 votos es de 18.8%"
      ],
      "metadata": {
        "id": "gnvzJI75HLpv"
      }
    }
  ]
}