{
  "nbformat": 4,
  "nbformat_minor": 0,
  "metadata": {
    "colab": {
      "provenance": [],
      "authorship_tag": "ABX9TyPJiS/sjoc138UoziCYre9f",
      "include_colab_link": true
    },
    "kernelspec": {
      "name": "python3",
      "display_name": "Python 3"
    },
    "language_info": {
      "name": "python"
    }
  },
  "cells": [
    {
      "cell_type": "markdown",
      "metadata": {
        "id": "view-in-github",
        "colab_type": "text"
      },
      "source": [
        "<a href=\"https://colab.research.google.com/github/LuisaMariaMontoyaConde1994/TrabajoClaseestadistica/blob/main/Actividad_1.ipynb\" target=\"_parent\"><img src=\"https://colab.research.google.com/assets/colab-badge.svg\" alt=\"Open In Colab\"/></a>"
      ]
    },
    {
      "cell_type": "markdown",
      "source": [
        "# **Manuel Antonio Moreno Villate**\n"
      ],
      "metadata": {
        "id": "iwt8cPw6A438"
      }
    },
    {
      "cell_type": "code",
      "source": [
        "import numpy as np\n",
        "import matplotlib.pyplot as plt #graficas\n",
        "from scipy.stats import binom #parte estadistica"
      ],
      "metadata": {
        "id": "OcdoF2pKCPtj"
      },
      "execution_count": 20,
      "outputs": []
    },
    {
      "cell_type": "markdown",
      "source": [
        "En una elección, un candidato tiene una probabilidad del $60\\%$ de recibir un voto en cada votación individual. Si se emiten 20 votos.\n",
        "\n",
        "1. ¿Cuál es la probabilidad de que al menos obtenga 12 votos?\n",
        "2. ¿Cuál es la probabilidad de que a lo mas obtenga 5 votos?\n",
        "3. ¿Cuál es la probabilidad de que no obtenga votos?\n",
        "4. ¿Cuál es la probabilidad de que obtenga entre 8 y 10 votos?"
      ],
      "metadata": {
        "id": "jxJKJa2UBHjd"
      }
    },
    {
      "cell_type": "markdown",
      "source": [
        "#*Respuesta 1*\n",
        "1. ¿Cuál es la probabilidad de que al menos obtenga 12 votos?\n",
        "\n",
        "$$P(X\\geq 12)= 1-P(X< 12)$$"
      ],
      "metadata": {
        "id": "GWTgHWckBprL"
      }
    },
    {
      "cell_type": "code",
      "execution_count": 6,
      "metadata": {
        "colab": {
          "base_uri": "https://localhost:8080/"
        },
        "id": "Tpz91barA36I",
        "outputId": "de0f5803-06be-4f98-977c-4a3e4688d757"
      },
      "outputs": [
        {
          "output_type": "stream",
          "name": "stdout",
          "text": [
            "0.5955987253122248\n",
            "la probabilidad es 59.55987253122248 %\n"
          ]
        }
      ],
      "source": [
        "n=20\n",
        "p=0.6\n",
        "x=12\n",
        "prob=1-binom.cdf(x-1,n,p)\n",
        "print(prob)\n",
        "e=prob*100\n",
        "print('la probabilidad es',e,'%')"
      ]
    },
    {
      "cell_type": "markdown",
      "source": [
        "La probabilidad de al menos obtener 12 votos es del 59% aproximandamente"
      ],
      "metadata": {
        "id": "V_rWGqTNFBz0"
      }
    },
    {
      "cell_type": "markdown",
      "source": [
        "#*Respuesta 2*\n",
        "2. ¿Cuál es la probabilidad de que a lo mas obtenga 5 votos?\n",
        "\n",
        "$$P(X\\leq 5)$$"
      ],
      "metadata": {
        "id": "TR2rD8MjCWlv"
      }
    },
    {
      "cell_type": "code",
      "source": [
        "n=20\n",
        "p=0.6\n",
        "x=5\n",
        "prob=binom.cdf(x,n,p)\n",
        "print(prob)\n",
        "e=prob*100\n",
        "print('la probabilidad es',e,'%')"
      ],
      "metadata": {
        "colab": {
          "base_uri": "https://localhost:8080/"
        },
        "outputId": "a094a919-e10a-4899-94e2-738b4079c348",
        "id": "bJZ1PE7cAhLv"
      },
      "execution_count": 7,
      "outputs": [
        {
          "output_type": "stream",
          "name": "stdout",
          "text": [
            "0.001611524643456288\n",
            "la probabilidad es 0.1611524643456288 %\n"
          ]
        }
      ]
    },
    {
      "cell_type": "markdown",
      "source": [
        "La probabilidad de que a lo mas obtenga 5 votos es del 0.16% aproximandamente"
      ],
      "metadata": {
        "id": "-fhbljQhFZHs"
      }
    },
    {
      "cell_type": "markdown",
      "source": [
        "#*Respuesta 3*\n",
        "3. ¿Cuál es la probabilidad de que no obtenga votos?\n",
        "\n"
      ],
      "metadata": {
        "id": "tWO0uOunDI0Q"
      }
    },
    {
      "cell_type": "code",
      "source": [
        "n=20\n",
        "p=0.6\n",
        "x=0\n",
        "prob=binom.pmf(x,n,p)\n",
        "print(prob)\n",
        "r=prob*100\n",
        "print('la probasbilidad es',r,'%')"
      ],
      "metadata": {
        "colab": {
          "base_uri": "https://localhost:8080/"
        },
        "id": "fkDoAfDZDXjM",
        "outputId": "598fa0f9-caad-497a-ef1d-2fcd5c57f987"
      },
      "execution_count": 19,
      "outputs": [
        {
          "output_type": "stream",
          "name": "stdout",
          "text": [
            "1.0995116277760013e-08\n",
            "la probasbilidad es 1.0995116277760013e-06 %\n"
          ]
        }
      ]
    },
    {
      "cell_type": "markdown",
      "source": [
        "La probabilidad de que no obtenga votos es del 0.00000109% aproximandamente"
      ],
      "metadata": {
        "id": "jqCDCe_EGXNl"
      }
    },
    {
      "cell_type": "markdown",
      "source": [
        "#*Respuesta 4*\n",
        "4. ¿Cuál es la probabilidad de que obtenga entre 8 y 10 votos?\n",
        " $$8\\leq P(X)\\leq 10$$"
      ],
      "metadata": {
        "id": "KURS3YdUEpRp"
      }
    },
    {
      "cell_type": "code",
      "source": [
        "n=20\n",
        "p=0.6\n",
        "x=10\n",
        "prob=binom.cdf(x,n,p)\n",
        "print(prob)\n",
        "w=prob*100\n",
        "print('la probabilidad es',w,'%')"
      ],
      "metadata": {
        "colab": {
          "base_uri": "https://localhost:8080/"
        },
        "id": "BtqeiposEoNs",
        "outputId": "05f6f42e-0b1c-49f5-8911-f25b13a41747"
      },
      "execution_count": 12,
      "outputs": [
        {
          "output_type": "stream",
          "name": "stdout",
          "text": [
            "0.24466279668360685\n",
            "la probabilidad es 24.466279668360684 %\n"
          ]
        }
      ]
    },
    {
      "cell_type": "code",
      "source": [
        "n=20\n",
        "p=0.6\n",
        "x=8\n",
        "prob=binom.cdf(x,n,p)\n",
        "print(prob)\n",
        "t=prob*100\n",
        "print('la probabilidad es',t,'%')"
      ],
      "metadata": {
        "colab": {
          "base_uri": "https://localhost:8080/"
        },
        "outputId": "9aaf03f4-4d90-42db-bb0b-2c5a6790b658",
        "id": "pG8BqcKeFq7u"
      },
      "execution_count": 13,
      "outputs": [
        {
          "output_type": "stream",
          "name": "stdout",
          "text": [
            "0.056526367034253025\n",
            "la probabilidad es 5.652636703425302 %\n"
          ]
        }
      ]
    },
    {
      "cell_type": "code",
      "source": [
        "# Diferencia\n",
        "p=w-t\n",
        "print('la probabilidad es',p,'%')"
      ],
      "metadata": {
        "colab": {
          "base_uri": "https://localhost:8080/"
        },
        "id": "cBI5OTLaFwmk",
        "outputId": "f5a12aa9-a8ee-45dc-9e18-7eb9bee8e082"
      },
      "execution_count": 14,
      "outputs": [
        {
          "output_type": "stream",
          "name": "stdout",
          "text": [
            "la probabilidad es 18.813642964935383 %\n"
          ]
        }
      ]
    },
    {
      "cell_type": "markdown",
      "source": [
        "La probabilidad de que obtenga entre 8 y 10 votos es del 18% aproximadamente"
      ],
      "metadata": {
        "id": "bQw4pcN1GBk9"
      }
    }
  ]
}