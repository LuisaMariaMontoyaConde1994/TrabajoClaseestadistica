{
  "nbformat": 4,
  "nbformat_minor": 0,
  "metadata": {
    "colab": {
      "provenance": [],
      "authorship_tag": "ABX9TyNqzkp4yJOFPjlP2dOzzdFX",
      "include_colab_link": true
    },
    "kernelspec": {
      "name": "python3",
      "display_name": "Python 3"
    },
    "language_info": {
      "name": "python"
    }
  },
  "cells": [
    {
      "cell_type": "markdown",
      "metadata": {
        "id": "view-in-github",
        "colab_type": "text"
      },
      "source": [
        "<a href=\"https://colab.research.google.com/github/LuisaMariaMontoyaConde1994/TrabajoClaseestadistica/blob/main/Actividad_1.ipynb\" target=\"_parent\"><img src=\"https://colab.research.google.com/assets/colab-badge.svg\" alt=\"Open In Colab\"/></a>"
      ]
    },
    {
      "cell_type": "markdown",
      "source": [
        "**Diego Alejandro Barragan Rodriguez**"
      ],
      "metadata": {
        "id": "PY6mTDnzA1zM"
      }
    },
    {
      "cell_type": "code",
      "source": [
        "import numpy as np\n",
        "import matplotlib.pyplot as plt\n",
        "from scipy.stats import binom"
      ],
      "metadata": {
        "id": "8jUvzhauB3we"
      },
      "execution_count": 1,
      "outputs": []
    },
    {
      "cell_type": "markdown",
      "source": [
        "En una elección, un candidato tiene una probabilidad del $60\\%$ de recibir un voto en cada votación individual. Si se emiten 20 votos.\n",
        "\n",
        "\n",
        "1.   ¿Cuál es la probabilidad de que al menos obtenga 12 votos?\n",
        "2.   ¿Cuál es la probabilidad de que lo más obtenga 5 votos?\n",
        "3.  ¿Cuál es la probabilidd de que no obtenga votos.\n",
        "4.  ¿Cuál es la probabilidad de que obtenga entre 8 y 10 votos?"
      ],
      "metadata": {
        "id": "ZL5KlySeBG4k"
      }
    },
    {
      "cell_type": "markdown",
      "source": [
        "**1. ¿Cuál es la probabilidad de que al menos obtenga 12 votos?**\n",
        "$$P(X\\geq 12)=1-P(X<12)$$"
      ],
      "metadata": {
        "id": "XnAj1LZ_BpNc"
      }
    },
    {
      "cell_type": "code",
      "source": [
        "n=20\n",
        "p=0.6\n",
        "x=12\n",
        "prob=1-binom.cdf(x-1,n,p)\n",
        "print(prob)\n",
        "m=prob*100\n",
        "print('la probabilidad es',m,'%')"
      ],
      "metadata": {
        "colab": {
          "base_uri": "https://localhost:8080/"
        },
        "id": "9FV1j4GiBwUf",
        "outputId": "a2a8c81f-b2fc-44ac-a8b0-797f28f27a31"
      },
      "execution_count": 2,
      "outputs": [
        {
          "output_type": "stream",
          "name": "stdout",
          "text": [
            "0.5955987253122248\n",
            "la probabilidad es 59.55987253122248 %\n"
          ]
        }
      ]
    },
    {
      "cell_type": "markdown",
      "source": [
        "La probabilidad de que al menos obtenga 12 votos es de $59\\%$"
      ],
      "metadata": {
        "id": "c8HpGY2ZCdm2"
      }
    },
    {
      "cell_type": "markdown",
      "source": [
        "**2. ¿Cuál es la probabilidad de que lo más obtenga 5 votos?**\n",
        "$$P(X\\leq5)$$"
      ],
      "metadata": {
        "id": "mNjpKSDGCoE-"
      }
    },
    {
      "cell_type": "code",
      "source": [
        "n=20\n",
        "p=0.6\n",
        "x=5\n",
        "prob=binom.cdf(x,n,p)\n",
        "print(prob)\n",
        "m=prob*100\n",
        "print('la probabilidad es',m,'%')"
      ],
      "metadata": {
        "colab": {
          "base_uri": "https://localhost:8080/"
        },
        "id": "Ir2jhf1DCnI-",
        "outputId": "0bfc4ca1-28fc-45d5-f302-d1fe775bf9c9"
      },
      "execution_count": 4,
      "outputs": [
        {
          "output_type": "stream",
          "name": "stdout",
          "text": [
            "0.001611524643456288\n",
            "la probabilidad es 0.1611524643456288 %\n"
          ]
        }
      ]
    },
    {
      "cell_type": "markdown",
      "source": [
        "La probabilidad de que a lo mas obtenga 5 votos es del $16\\%$"
      ],
      "metadata": {
        "id": "ZeyU6mxYC9ll"
      }
    },
    {
      "cell_type": "markdown",
      "source": [
        "**3. ¿Cuál es la probabilidd de que no obtenga votos?**\n"
      ],
      "metadata": {
        "id": "ULZIW_6UEGBo"
      }
    },
    {
      "cell_type": "code",
      "source": [
        "n=20\n",
        "p=0.6\n",
        "x=0\n",
        "prob=binom.cdf(x,n,p)\n",
        "print(prob)\n",
        "m=prob*100\n",
        "print('la probabilidad es',m,'%')"
      ],
      "metadata": {
        "colab": {
          "base_uri": "https://localhost:8080/"
        },
        "id": "xF2Z3UIqE3OJ",
        "outputId": "16a7191c-c25a-4493-95ee-34ee1089e50c"
      },
      "execution_count": 13,
      "outputs": [
        {
          "output_type": "stream",
          "name": "stdout",
          "text": [
            "1.0995116277760013e-08\n",
            "la probabilidad es 1.0995116277760013e-06 %\n"
          ]
        }
      ]
    },
    {
      "cell_type": "markdown",
      "source": [
        "**4. ¿Cuál es la probabilidad de que obtenga entre 8 y 10 votos?**"
      ],
      "metadata": {
        "id": "_1cdUUxQE82K"
      }
    },
    {
      "cell_type": "code",
      "source": [
        "n=20\n",
        "p=0.6\n",
        "x=8\n",
        "prob=binom.cdf(x,n,p)\n",
        "print(prob)\n",
        "p1=prob*100\n",
        "print('la probabilidad es',m,'%')"
      ],
      "metadata": {
        "colab": {
          "base_uri": "https://localhost:8080/"
        },
        "id": "OaQ4qBoVFzAr",
        "outputId": "492827b4-b2fd-4716-8a12-eb812694189f"
      },
      "execution_count": 9,
      "outputs": [
        {
          "output_type": "stream",
          "name": "stdout",
          "text": [
            "0.056526367034253025\n",
            "la probabilidad es 24.466279668360684 %\n"
          ]
        }
      ]
    },
    {
      "cell_type": "code",
      "source": [
        "n=20\n",
        "p=0.6\n",
        "x=10\n",
        "prob=binom.cdf(x,n,p)\n",
        "print(prob)\n",
        "p2=prob*100\n",
        "print('la probabilidad es',m,'%')"
      ],
      "metadata": {
        "colab": {
          "base_uri": "https://localhost:8080/"
        },
        "id": "pdCWjwGwF947",
        "outputId": "f189385d-95d8-4066-d3cc-368da7fb85e8"
      },
      "execution_count": 8,
      "outputs": [
        {
          "output_type": "stream",
          "name": "stdout",
          "text": [
            "0.24466279668360685\n",
            "la probabilidad es 24.466279668360684 %\n"
          ]
        }
      ]
    },
    {
      "cell_type": "code",
      "source": [
        "p2-p1\n",
        "print('la probabilidad es',p2-p1,'%')"
      ],
      "metadata": {
        "colab": {
          "base_uri": "https://localhost:8080/"
        },
        "id": "PLjUE3x0GIDE",
        "outputId": "9241b57b-b6ce-408c-862c-d50ba5baa266"
      },
      "execution_count": 11,
      "outputs": [
        {
          "output_type": "stream",
          "name": "stdout",
          "text": [
            "la probabilidad es 18.813642964935383 %\n"
          ]
        }
      ]
    },
    {
      "cell_type": "markdown",
      "source": [
        "La probabilidad de que obtenga en 8 y 10 votos es de $18\\%$"
      ],
      "metadata": {
        "id": "Ul-LhIXGGgv9"
      }
    }
  ]
}