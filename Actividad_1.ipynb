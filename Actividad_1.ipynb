{
  "nbformat": 4,
  "nbformat_minor": 0,
  "metadata": {
    "colab": {
      "provenance": [],
      "authorship_tag": "ABX9TyPtCXWpaqiy3o4XYqcVLKP4",
      "include_colab_link": true
    },
    "kernelspec": {
      "name": "python3",
      "display_name": "Python 3"
    },
    "language_info": {
      "name": "python"
    }
  },
  "cells": [
    {
      "cell_type": "markdown",
      "metadata": {
        "id": "view-in-github",
        "colab_type": "text"
      },
      "source": [
        "<a href=\"https://colab.research.google.com/github/LuisaMariaMontoyaConde1994/TrabajoClaseestadistica/blob/main/Actividad_1.ipynb\" target=\"_parent\"><img src=\"https://colab.research.google.com/assets/colab-badge.svg\" alt=\"Open In Colab\"/></a>"
      ]
    },
    {
      "cell_type": "markdown",
      "source": [
        "Alisson gabriela santos"
      ],
      "metadata": {
        "id": "OHmXKQGuJfOP"
      }
    },
    {
      "cell_type": "code",
      "source": [
        "import numpy as np\n",
        "import matplotlib.pyplot as plt\n",
        "from scipy.stats import binom"
      ],
      "metadata": {
        "id": "xOYz1bg9Eo4H"
      },
      "execution_count": 1,
      "outputs": []
    },
    {
      "cell_type": "markdown",
      "source": [
        "En una elección, un candidato tiene una probabilidad del $60\\%$ de recibir un voto en cada votación individual. Si se emiten 20 votos.\n",
        "\n",
        "\n",
        "1.   ¿Cuál es la probabilidad de que al menos obtenga 12 votos?\n",
        "2.   ¿Cuál es la probabilidad de que lo más obtenga 5 votos?\n",
        "3.  ¿Cuál es la probabilidd de que no obtenga votos.\n",
        "4.  ¿Cuál es la probabilidad de que obtenga entre 8 y 10 votos?\n"
      ],
      "metadata": {
        "id": "dUZ7mx8uBaft"
      }
    },
    {
      "cell_type": "markdown",
      "source": [
        "## ejercicio 1\n",
        "¿cuál es la probabilidad de que al menos obtenga 12 votos?\n",
        "$$P(X\\geq 12)=1-P(X< 12)$$"
      ],
      "metadata": {
        "id": "7ug7KZ9vE_z3"
      }
    },
    {
      "cell_type": "code",
      "source": [
        "n=20\n",
        "p=0.6\n",
        "x=12\n",
        "prob=1-binom.cdf(x-1,n,p)\n",
        "print(prob)\n",
        "m=prob*100\n",
        "print('La probabilidad es',m,'%')"
      ],
      "metadata": {
        "colab": {
          "base_uri": "https://localhost:8080/"
        },
        "id": "bdIUS75uE_YV",
        "outputId": "8ad0d9d6-4abf-46aa-8129-e527cd0b71ab"
      },
      "execution_count": 2,
      "outputs": [
        {
          "output_type": "stream",
          "name": "stdout",
          "text": [
            "0.5955987253122248\n",
            "La probabilidad es 59.55987253122248 %\n"
          ]
        }
      ]
    },
    {
      "cell_type": "markdown",
      "source": [
        "La probabilidad de que al menos se obtengan 12 votos es del 59%"
      ],
      "metadata": {
        "id": "VIlDr20nF42e"
      }
    },
    {
      "cell_type": "markdown",
      "source": [
        "# ejercicio 2\n",
        "¿Cuál es la probabilidad de que lo más obtenga 5 votos?\n",
        "$$P(X\\leq 5)$$\n"
      ],
      "metadata": {
        "id": "juDhFqG7GFJe"
      }
    },
    {
      "cell_type": "code",
      "execution_count": 3,
      "metadata": {
        "colab": {
          "base_uri": "https://localhost:8080/"
        },
        "id": "k1HN2Ef4BQ7G",
        "outputId": "7303e998-f62a-476d-912d-b393fbb8c7a7"
      },
      "outputs": [
        {
          "output_type": "stream",
          "name": "stdout",
          "text": [
            "0.001611524643456288\n",
            "La probabilidad es 0.1611524643456288 %\n"
          ]
        }
      ],
      "source": [
        "n=20\n",
        "p=0.6\n",
        "x=5\n",
        "prob=binom.cdf(x,n,p)\n",
        "print(prob)\n",
        "m=prob*100\n",
        "print('La probabilidad es',m,'%')\n"
      ]
    },
    {
      "cell_type": "markdown",
      "source": [
        "La probabilidad de que a lo más obtenga 5 votos es de 0.016%"
      ],
      "metadata": {
        "id": "jff48QevGvUX"
      }
    },
    {
      "cell_type": "markdown",
      "source": [
        "#ejercicio 3\n",
        "Cuál es la probabilidd de que no obtenga votos.\n",
        "$$P(X=0)=\\binom{20}{0}(0.6)^{0}(0.4)^{20-0}$$\n",
        "$$\\approx 1.0995116277760013e-08$$\n",
        "$$\\approx 1.09(100\\%)=1.0995116277760013e-06\\%$$\n"
      ],
      "metadata": {
        "id": "-ue191CTHJ32"
      }
    },
    {
      "cell_type": "code",
      "source": [
        "n=20\n",
        "p=0.6\n",
        "x=0\n",
        "prob=binom.pmf(x,n,p)\n",
        "print(prob)"
      ],
      "metadata": {
        "colab": {
          "base_uri": "https://localhost:8080/"
        },
        "id": "CffBdiQ_I0GA",
        "outputId": "d31c292d-e0bd-45a7-f85a-7f1937bffdf9"
      },
      "execution_count": 4,
      "outputs": [
        {
          "output_type": "stream",
          "name": "stdout",
          "text": [
            "1.0995116277760013e-08\n"
          ]
        }
      ]
    },
    {
      "cell_type": "code",
      "source": [
        "m=prob*100\n",
        "print('La probabilidad es',m,'%')"
      ],
      "metadata": {
        "colab": {
          "base_uri": "https://localhost:8080/"
        },
        "id": "65lN0_3fI8P4",
        "outputId": "4a2b49f9-6de9-4789-84ac-c76ab2f049ed"
      },
      "execution_count": 5,
      "outputs": [
        {
          "output_type": "stream",
          "name": "stdout",
          "text": [
            "La probabilidad es 1.0995116277760013e-06 %\n"
          ]
        }
      ]
    },
    {
      "cell_type": "markdown",
      "source": [
        "La probabilidad de que de no obtenga votos es de 1.0995116277760013e-06 %"
      ],
      "metadata": {
        "id": "mzapKvJmJOc_"
      }
    },
    {
      "cell_type": "markdown",
      "source": [
        "#ejercicio 4\n",
        "¿Cuál es la probabilidad de que obtenga entre 8 y 10 votos?\n",
        "\n",
        "$$P(8\\leq P(X)\\leq 10)$$"
      ],
      "metadata": {
        "id": "9L1CF4kkJWyH"
      }
    },
    {
      "cell_type": "code",
      "source": [
        "n=20\n",
        "p=0.6\n",
        "x=8\n",
        "prob=binom.cdf(x,n,p)\n",
        "print(prob)\n",
        "q=prob*100\n",
        "print('La probabilidad es',q,'%')"
      ],
      "metadata": {
        "colab": {
          "base_uri": "https://localhost:8080/"
        },
        "id": "y8wHJwmVJkB-",
        "outputId": "bcc9a90c-25f8-4378-bfee-5064ef809d5f"
      },
      "execution_count": 7,
      "outputs": [
        {
          "output_type": "stream",
          "name": "stdout",
          "text": [
            "0.056526367034253025\n",
            "La probabilidad es 5.652636703425302 %\n"
          ]
        }
      ]
    },
    {
      "cell_type": "code",
      "source": [
        "n=20\n",
        "p=0.6\n",
        "x=10\n",
        "prob=binom.cdf(x,n,p)\n",
        "print(prob)\n",
        "t=prob*100\n",
        "print('La probabilidad es',t,'%')"
      ],
      "metadata": {
        "colab": {
          "base_uri": "https://localhost:8080/"
        },
        "id": "OtBBTN9RK8Y3",
        "outputId": "1c9ed4fe-190d-4b67-ce71-98281c5e8cd3"
      },
      "execution_count": 8,
      "outputs": [
        {
          "output_type": "stream",
          "name": "stdout",
          "text": [
            "0.24466279668360685\n",
            "La probabilidad es 24.466279668360684 %\n"
          ]
        }
      ]
    },
    {
      "cell_type": "code",
      "source": [
        "l=t-q\n",
        "print(l)"
      ],
      "metadata": {
        "colab": {
          "base_uri": "https://localhost:8080/"
        },
        "id": "BdfOR7olLKRf",
        "outputId": "88343209-f176-411e-a050-48bac0bae6c7"
      },
      "execution_count": 11,
      "outputs": [
        {
          "output_type": "stream",
          "name": "stdout",
          "text": [
            "18.813642964935383\n"
          ]
        }
      ]
    },
    {
      "cell_type": "markdown",
      "source": [
        "La probabilidad de que obtenga entre 8 y 10 votos es de 18%"
      ],
      "metadata": {
        "id": "H0_DXHuXMljP"
      }
    }
  ]
}