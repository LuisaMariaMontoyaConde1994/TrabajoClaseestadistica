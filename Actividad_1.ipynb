{
  "nbformat": 4,
  "nbformat_minor": 0,
  "metadata": {
    "colab": {
      "provenance": [],
      "authorship_tag": "ABX9TyN0/0AFh6LpQnMyqIJDhnXd",
      "include_colab_link": true
    },
    "kernelspec": {
      "name": "python3",
      "display_name": "Python 3"
    },
    "language_info": {
      "name": "python"
    }
  },
  "cells": [
    {
      "cell_type": "markdown",
      "metadata": {
        "id": "view-in-github",
        "colab_type": "text"
      },
      "source": [
        "<a href=\"https://colab.research.google.com/github/LuisaMariaMontoyaConde1994/TrabajoClaseestadistica/blob/main/Actividad_1.ipynb\" target=\"_parent\"><img src=\"https://colab.research.google.com/assets/colab-badge.svg\" alt=\"Open In Colab\"/></a>"
      ]
    },
    {
      "cell_type": "markdown",
      "source": [
        "**Mariana Jose Sanchez Quimbayo**"
      ],
      "metadata": {
        "id": "Yu5mUv4OBNGI"
      }
    },
    {
      "cell_type": "markdown",
      "source": [
        "En una eleccion, un candidato tiene una probabilidad del $60\\%$ de recibir un voto en cada votacion individual\n",
        "\n",
        "si se emiten 20 votos\n",
        "\n",
        "1.   ¿Cuál es la probabilidad de que al menos obtenga 12 votos?\n",
        "2.   ¿Cuál es la probabilidad de que lo más obtenga 5 votos?\n",
        "3.  ¿Cuál es la probabilidad de que no obtenga votos?\n",
        "4.  ¿Cuál es la probabilidad de que obtenga entre 8 y 10 votos?"
      ],
      "metadata": {
        "id": "n6RLr57sBTH3"
      }
    },
    {
      "cell_type": "code",
      "source": [
        "import numpy as np\n",
        "import matplotlib.pyplot as plt\n",
        "from scipy.stats import binom"
      ],
      "metadata": {
        "id": "h6RK4zfDEd4T"
      },
      "execution_count": 1,
      "outputs": []
    },
    {
      "cell_type": "markdown",
      "source": [
        "¿Cuál es la probabilidad de que al menos obtenga 12 votos?\n",
        "$$P(X\\geq 12)=1-P(X<12)$$"
      ],
      "metadata": {
        "id": "90NYTxi7FX2j"
      }
    },
    {
      "cell_type": "markdown",
      "source": [
        "**RTA:la probabilidad de que al menos obtenga 12 votos es de $59\\%$ aproximado**"
      ],
      "metadata": {
        "id": "UanMaMGVFhgD"
      }
    },
    {
      "cell_type": "code",
      "source": [
        "n=20\n",
        "p=0.6\n",
        "x=12\n",
        "prob=1-binom.cdf(x-1,n,p)\n",
        "print(prob)\n",
        "m=prob*100\n",
        "print('La probabilidad es',m,'%')"
      ],
      "metadata": {
        "colab": {
          "base_uri": "https://localhost:8080/"
        },
        "id": "ZkYP5VwxE5oD",
        "outputId": "9e036160-b178-430b-c9a3-6a609a177d9c"
      },
      "execution_count": 4,
      "outputs": [
        {
          "output_type": "stream",
          "name": "stdout",
          "text": [
            "0.5955987253122248\n",
            "La probabilidad es 59.55987253122248 %\n"
          ]
        }
      ]
    },
    {
      "cell_type": "markdown",
      "source": [
        "¿Cuál es la probabilidad de que lo más obtenga 5 votos?\n",
        "$$P(X\\leq 5)$$"
      ],
      "metadata": {
        "id": "EWIztiDkF8ob"
      }
    },
    {
      "cell_type": "code",
      "source": [
        "w=20\n",
        "k=0.6\n",
        "q=5\n",
        "prob=binom.cdf(q,w,k)\n",
        "print(prob)\n",
        "m=prob*100\n",
        "print('La probabilidad es',m,'%')"
      ],
      "metadata": {
        "colab": {
          "base_uri": "https://localhost:8080/"
        },
        "id": "QQaCc6yKGD9L",
        "outputId": "427bd725-4a48-468d-9964-b95f64dd9bc1"
      },
      "execution_count": 6,
      "outputs": [
        {
          "output_type": "stream",
          "name": "stdout",
          "text": [
            "0.001611524643456288\n",
            "La probabilidad es 0.1611524643456288 %\n"
          ]
        }
      ]
    },
    {
      "cell_type": "markdown",
      "source": [
        "**RTA:La probabilidad de que a lo mas obtenga 5 votos es del $16\\%$ aproximado"
      ],
      "metadata": {
        "id": "Adx3rZtTGjb8"
      }
    },
    {
      "cell_type": "markdown",
      "source": [
        " ¿Cuál es la probabilidad de que no obtenga votos?\n",
        " $$P(X=0)=\\binom{20}{0}(0.6)^{0}(0.4)^{20-0}$$\n",
        "$$\\approx 1.0995116277760013e-08$$\n",
        "$$\\approx 1.0995116277760013e-08(100\\%)=1.0995116277760013e-08\\%$$"
      ],
      "metadata": {
        "id": "4drhfZZPG72c"
      }
    },
    {
      "cell_type": "code",
      "source": [
        "n=20\n",
        "p=0.6\n",
        "x=0\n",
        "prob=binom.pmf(x,n,p)\n",
        "print(prob)\n",
        "m=prob*100\n",
        "print('la probabilidad es',m,'%')"
      ],
      "metadata": {
        "colab": {
          "base_uri": "https://localhost:8080/"
        },
        "id": "v51ba1r0HhYl",
        "outputId": "5d9752ab-2a9f-4b7e-e54e-eade3f48086b"
      },
      "execution_count": 7,
      "outputs": [
        {
          "output_type": "stream",
          "name": "stdout",
          "text": [
            "1.0995116277760013e-08\n",
            "la probabilidad es 1.0995116277760013e-06 %\n"
          ]
        }
      ]
    },
    {
      "cell_type": "markdown",
      "source": [
        "¿Cuál es la probabilidad de que obtenga entre 8 y 10 votos?\n",
        "$$P(8\\leq P(x)\\leq 10)$$"
      ],
      "metadata": {
        "id": "bWYQWOJQH-zl"
      }
    },
    {
      "cell_type": "code",
      "source": [
        "a=20\n",
        "e=0.6\n",
        "i=10\n",
        "prob1=binom.cdf(i,a,e)\n",
        "print(prob1)\n",
        "m=prob1*100\n",
        "print('La probabilidad es',m,'%')"
      ],
      "metadata": {
        "colab": {
          "base_uri": "https://localhost:8080/"
        },
        "id": "0gQOYnggJSXu",
        "outputId": "a4871087-fa20-4c20-ab8b-dc4bc040a055"
      },
      "execution_count": 8,
      "outputs": [
        {
          "output_type": "stream",
          "name": "stdout",
          "text": [
            "0.24466279668360685\n",
            "La probabilidad es 24.466279668360684 %\n"
          ]
        }
      ]
    },
    {
      "cell_type": "code",
      "source": [
        "o=20\n",
        "t=0.6\n",
        "s=8\n",
        "prob2=binom.cdf(s,o,t)\n",
        "print(prob2)\n",
        "k=prob2*100\n",
        "print('La probabilidad es',k,'%')"
      ],
      "metadata": {
        "colab": {
          "base_uri": "https://localhost:8080/"
        },
        "id": "k37G9e_7Jr2W",
        "outputId": "f4f408a5-9483-4c05-ed45-8f9aa86c56f4"
      },
      "execution_count": 11,
      "outputs": [
        {
          "output_type": "stream",
          "name": "stdout",
          "text": [
            "0.056526367034253025\n",
            "La probabilidad es 5.652636703425302 %\n"
          ]
        }
      ]
    },
    {
      "cell_type": "code",
      "source": [
        "q=m-k\n",
        "print(q)"
      ],
      "metadata": {
        "colab": {
          "base_uri": "https://localhost:8080/"
        },
        "id": "jDzlEjd3KQy_",
        "outputId": "59a9eed2-11cc-4953-a8de-aef15151ccdb"
      },
      "execution_count": 14,
      "outputs": [
        {
          "output_type": "stream",
          "name": "stdout",
          "text": [
            "18.813642964935383\n"
          ]
        }
      ]
    }
  ]
}