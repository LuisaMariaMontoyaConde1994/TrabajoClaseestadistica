{
  "nbformat": 4,
  "nbformat_minor": 0,
  "metadata": {
    "colab": {
      "provenance": [],
      "authorship_tag": "ABX9TyNDgHTLLiwPO9cv2tT/pMcj",
      "include_colab_link": true
    },
    "kernelspec": {
      "name": "python3",
      "display_name": "Python 3"
    },
    "language_info": {
      "name": "python"
    }
  },
  "cells": [
    {
      "cell_type": "markdown",
      "metadata": {
        "id": "view-in-github",
        "colab_type": "text"
      },
      "source": [
        "<a href=\"https://colab.research.google.com/github/LuisaMariaMontoyaConde1994/TrabajoClaseestadistica/blob/main/Distribucion_Probabilida_Continua.ipynb\" target=\"_parent\"><img src=\"https://colab.research.google.com/assets/colab-badge.svg\" alt=\"Open In Colab\"/></a>"
      ]
    },
    {
      "cell_type": "markdown",
      "source": [
        "Mariana Sanchez"
      ],
      "metadata": {
        "id": "hO5Yh-8CNZ5N"
      }
    },
    {
      "cell_type": "markdown",
      "source": [
        "La proporcion de personas que responden a cierta encuesta enviado por correo v.a:continua\n",
        "\n",
        "$$f(x)= \\left\\{ \\begin{array}{lcc} \\frac{2}{5}(x+2) & si & 0<x<1 \\\\ \\\\ 0 &  & en \\ otro\\  caso &  & \\end{array} \\right.$$\n",
        "\n",
        "$$\\int_{-\\infty}^{\\infty}f(x)dx=int_{0}^{1}\\frac{2}{5}(x+2)dx$$\n",
        "\n",
        "a)Demuestre si cumple d.p.c\n",
        "\n",
        "b)$P(\\frac{1}{4}<x<\\frac{1}{2})$\n"
      ],
      "metadata": {
        "id": "T_jMEqVGNAAe"
      }
    },
    {
      "cell_type": "markdown",
      "source": [
        "$$f(x)= \\left\\{ \\begin{array}{lcc} \\frac{2}{5}(x+2) & si & 0<x<1 \\\\ \\\\ 0 &  & en \\ otro\\  caso &  & \\end{array} \\right.$$\n"
      ],
      "metadata": {
        "id": "lO6lBzv9Oiju"
      }
    },
    {
      "cell_type": "markdown",
      "source": [
        "# ***D.P.C.***\n",
        "\n",
        "$$\\int_{0}^{1}\\frac{2}{5}(x+2)dx$$\n",
        "$$=\\frac{2}{5}[\\int xdx+2∫dx]$$\n",
        "$$=\\frac{2}{5}[\\frac{x^2}{2}]+\\frac{4}{5}[x]$$\n",
        "$$=\\frac{2x^2}{10}+\\frac{4}{5}x$$\n",
        "$$=\\frac{x^2}{5}+\\frac{4x}{5} \\int_{0}^{1}$$\n",
        "$$=[\\frac{(1)^2}{5}+\\frac{4(1)}{5}]-[\\frac{(0)^2}{5}+\\frac{4(0)}{5}]$$\n",
        "$$=\\frac{1}{5}+\\frac{4}{5}$$\n",
        "$$=\\frac{5}{5} = 1$$\n",
        "\n",
        "Si cumple con D.P.C"
      ],
      "metadata": {
        "id": "XfQ2k6tBSy4k"
      }
    },
    {
      "cell_type": "markdown",
      "source": [
        "\n",
        "**Evaluar **$P(\\frac{1}{4} < x < \\frac{1}{2})$****\n",
        "\n",
        "$$\\int_{\\frac{1}{4}}^{\\frac{1}{2}}\\frac{2}{5}(x+2)dx$$\n",
        "$$=\\frac{x^2}{5}+\\frac{4x}{5} \\int_{\\frac{1}{4}}^{\\frac{1}{2}}$$\n",
        "$$=[\\frac{\\left(\\frac{1}{2}\\right)^{2}}{5}+\\frac{4\\left(\\frac{1}{2}\\right)}{5}]-[\\frac{\\left(\\frac{1}{4}\\right)^{2}}{5}++\\frac{4\\left(\\frac{1}{4}\\right)}{5}]$$\n",
        "$$=\\frac{9}{20}+\\frac{17}{80}$$\n",
        "$$=\\frac{19}{80}$$\n",
        "$$=0.2375$$"
      ],
      "metadata": {
        "id": "LAOIGLigklLw"
      }
    }
  ]
}