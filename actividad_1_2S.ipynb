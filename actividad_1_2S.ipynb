{
  "nbformat": 4,
  "nbformat_minor": 0,
  "metadata": {
    "colab": {
      "provenance": [],
      "authorship_tag": "ABX9TyN5h1uXhP+PgukWiPA8R94m",
      "include_colab_link": true
    },
    "kernelspec": {
      "name": "python3",
      "display_name": "Python 3"
    },
    "language_info": {
      "name": "python"
    }
  },
  "cells": [
    {
      "cell_type": "markdown",
      "metadata": {
        "id": "view-in-github",
        "colab_type": "text"
      },
      "source": [
        "<a href=\"https://colab.research.google.com/github/LuisaMariaMontoyaConde1994/TrabajoClaseestadistica/blob/main/actividad_1_2S.ipynb\" target=\"_parent\"><img src=\"https://colab.research.google.com/assets/colab-badge.svg\" alt=\"Open In Colab\"/></a>"
      ]
    },
    {
      "cell_type": "markdown",
      "source": [
        "**MAYRA NICOL VALBUENA JARA**"
      ],
      "metadata": {
        "id": "JBSjc6XvJhED"
      }
    },
    {
      "cell_type": "markdown",
      "source": [
        "En una elección, un candidato tiene una probabilidad del $60\\%$ de recibir un voto en cada votación individual. Si se emiten 20 votos.\n",
        "\n",
        "\n",
        "1.   ¿Cuál es la probabilidad de que al menos obtenga 12 votos?\n",
        "2.   ¿Cuál es la probabilidad de que lo más obtenga 5 votos?\n",
        "3.  ¿Cuál es la probabilidd de que no obtenga votos.\n",
        "4.  ¿Cuál es la probabilidad de que obtenga entre 8 y 10 votos?\n",
        "$$P(X=5)=\\binom{15}{5}(0.4)^{5}(0.6)^{15-5}$$\n",
        "$$\\approx 0.18$$\n",
        "$$\\approx 0.18(100\\%)=18\\%$$\n",
        "\n",
        "$$P(X\\geq 10)=1-P(X< 10)$$"
      ],
      "metadata": {
        "id": "Vft5blAABYlC"
      }
    },
    {
      "cell_type": "code",
      "source": [
        "import numpy as np\n",
        "import matplotlib.pyplot as plt\n",
        "from scipy.stats import binom"
      ],
      "metadata": {
        "id": "NlX9skxJEpXO"
      },
      "execution_count": 1,
      "outputs": []
    },
    {
      "cell_type": "markdown",
      "source": [
        "**EJEMPLO 1**\n",
        " ¿Cuál es la probabilidad de que al menos obtenga 12 votos?\n",
        "**$$P(X\\geq 12)=1-P(X< 12)$$**"
      ],
      "metadata": {
        "id": "_M1jDKkLFCEN"
      }
    },
    {
      "cell_type": "code",
      "source": [
        "n=20\n",
        "p=0.6\n",
        "x=12\n",
        "prob=1-binom.cdf(x-1,n,p)\n",
        "print(prob)\n",
        "m=prob*100\n",
        "print('La probabilidad es ',m,'%')"
      ],
      "metadata": {
        "colab": {
          "base_uri": "https://localhost:8080/"
        },
        "id": "gDj73RIFFl1W",
        "outputId": "86b797e3-ab3e-440c-c5ed-2e16bf1b4186"
      },
      "execution_count": 2,
      "outputs": [
        {
          "output_type": "stream",
          "name": "stdout",
          "text": [
            "0.5955987253122248\n",
            "La probabilidad es  59.55987253122248 %\n"
          ]
        }
      ]
    },
    {
      "cell_type": "markdown",
      "source": [
        "La propabilidad de que al menos obtenga 12 votos es de 59%"
      ],
      "metadata": {
        "id": "ouxXEmgrF5m2"
      }
    },
    {
      "cell_type": "markdown",
      "source": [
        "**EJEMPLO 2**\n",
        "  ¿Cuál es la probabilidad de que lo más obtenga 5 votos?\n",
        "$$P(X\\leq 5)$$"
      ],
      "metadata": {
        "id": "Xi7bNQ5yGF_e"
      }
    },
    {
      "cell_type": "code",
      "source": [
        "n=20\n",
        "p=0.6\n",
        "x=5\n",
        "prob=binom.cdf(x,n,p)\n",
        "print(prob)\n",
        "m=prob*100\n",
        "print('La probabilidad es ',m,'%')\n",
        "\n"
      ],
      "metadata": {
        "colab": {
          "base_uri": "https://localhost:8080/"
        },
        "id": "l1my8QIeGJc2",
        "outputId": "cda3caf3-0151-4e1c-83cf-44892e9d9cd0"
      },
      "execution_count": 6,
      "outputs": [
        {
          "output_type": "stream",
          "name": "stdout",
          "text": [
            "0.001611524643456288\n",
            "La probabilidad es  0.1611524643456288 %\n"
          ]
        }
      ]
    },
    {
      "cell_type": "markdown",
      "source": [
        "\n",
        "**EJEMPLO 3**\n",
        "La probabilidad  de que a lo más obtenga 5 votos es de 16%."
      ],
      "metadata": {
        "id": "tSakxJM8G8sA"
      }
    },
    {
      "cell_type": "markdown",
      "source": [
        "¿Cuál es la probabilidd de que no obtenga votos?\n",
        "\n",
        "$$P(X=0)=\\binom{20}{0}(0.6)^{0}(0.4)^{20-0}$$\n",
        "$$\\approx 1.099$$\n",
        "$$\\approx 1.0995(100\\%)=1.0995116277760013e-08\\%$$"
      ],
      "metadata": {
        "id": "M12C5tf3IARY"
      }
    },
    {
      "cell_type": "code",
      "source": [
        "n=20\n",
        "p=0.6\n",
        "x=0\n",
        "prob=binom.pmf(x,n,p)\n",
        "print(prob)"
      ],
      "metadata": {
        "colab": {
          "base_uri": "https://localhost:8080/"
        },
        "id": "Iv7TlwNxICHB",
        "outputId": "9c2d660c-6298-4ebc-f874-ebda764e6f6f"
      },
      "execution_count": 7,
      "outputs": [
        {
          "output_type": "stream",
          "name": "stdout",
          "text": [
            "1.0995116277760013e-08\n"
          ]
        }
      ]
    },
    {
      "cell_type": "markdown",
      "source": [
        "La probabilidad de que no obtenga votos es de 1.0995116277760013e-08%"
      ],
      "metadata": {
        "id": "oc0JIMb-JDRq"
      }
    },
    {
      "cell_type": "markdown",
      "source": [
        "**EJEMPLO 4**\n",
        "¿Cuál es la probabilidad de que obtenga entre 8 y 10 votos?\n",
        "$$P(8\\leq P(X)\\leq10)$$\n"
      ],
      "metadata": {
        "id": "Ohj9CKXZJOIS"
      }
    },
    {
      "cell_type": "code",
      "source": [],
      "metadata": {
        "id": "8m12WQwNKZ3U"
      },
      "execution_count": null,
      "outputs": []
    },
    {
      "cell_type": "code",
      "source": [
        "n=20\n",
        "p=0.6\n",
        "x=8\n",
        "prob1=binom.cdf(x,n,p)\n",
        "print(prob1)\n",
        "o=prob1*100\n",
        "print('La probabilidad es ',o,'%')"
      ],
      "metadata": {
        "colab": {
          "base_uri": "https://localhost:8080/"
        },
        "id": "GtllsCq8KvGT",
        "outputId": "9d859d1d-7ee9-4898-8a37-e54f611df765"
      },
      "execution_count": 18,
      "outputs": [
        {
          "output_type": "stream",
          "name": "stdout",
          "text": [
            "0.056526367034253025\n",
            "La probabilidad es  5.652636703425302 %\n"
          ]
        }
      ]
    },
    {
      "cell_type": "code",
      "source": [
        "ñ=20\n",
        "d=0.6\n",
        "v=10\n",
        "prob2=binom.cdf(v,ñ,d)\n",
        "print(prob2)\n",
        "j=prob2*100\n",
        "print('La probabilidad es ',j,'%')"
      ],
      "metadata": {
        "colab": {
          "base_uri": "https://localhost:8080/"
        },
        "id": "JLZvpGRQKxDr",
        "outputId": "834701ed-d884-4619-a44f-d8258836279d"
      },
      "execution_count": 26,
      "outputs": [
        {
          "output_type": "stream",
          "name": "stdout",
          "text": [
            "0.24466279668360685\n",
            "La probabilidad es  24.466279668360684 %\n"
          ]
        }
      ]
    },
    {
      "cell_type": "code",
      "source": [
        "s=j-o\n",
        "print(s)"
      ],
      "metadata": {
        "colab": {
          "base_uri": "https://localhost:8080/"
        },
        "id": "Xfa87kuLL-g0",
        "outputId": "d266273e-8cc9-4d27-aadc-6d31f124c6a0"
      },
      "execution_count": 29,
      "outputs": [
        {
          "output_type": "stream",
          "name": "stdout",
          "text": [
            "18.813642964935383\n"
          ]
        }
      ]
    },
    {
      "cell_type": "markdown",
      "source": [
        "La probabilidad de que obtenga entre 8 y 10 votos es de 18%"
      ],
      "metadata": {
        "id": "v0obPA28MdBl"
      }
    }
  ]
}