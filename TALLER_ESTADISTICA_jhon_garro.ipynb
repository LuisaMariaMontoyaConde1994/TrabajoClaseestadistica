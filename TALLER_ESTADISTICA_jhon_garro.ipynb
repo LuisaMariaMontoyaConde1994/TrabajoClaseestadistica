{
  "nbformat": 4,
  "nbformat_minor": 0,
  "metadata": {
    "colab": {
      "provenance": [],
      "include_colab_link": true
    },
    "kernelspec": {
      "name": "python3",
      "display_name": "Python 3"
    },
    "language_info": {
      "name": "python"
    }
  },
  "cells": [
    {
      "cell_type": "markdown",
      "metadata": {
        "id": "view-in-github",
        "colab_type": "text"
      },
      "source": [
        "<a href=\"https://colab.research.google.com/github/LuisaMariaMontoyaConde1994/TrabajoClaseestadistica/blob/main/TALLER_ESTADISTICA_jhon_garro.ipynb\" target=\"_parent\"><img src=\"https://colab.research.google.com/assets/colab-badge.svg\" alt=\"Open In Colab\"/></a>"
      ]
    },
    {
      "cell_type": "markdown",
      "source": [
        "**TALLER DE ESTADISTICA II**"
      ],
      "metadata": {
        "id": "KP-pwvjbJgIs"
      }
    },
    {
      "cell_type": "markdown",
      "source": [
        "1. Clasifique las siguientes variables aleatorias como discretas o continuas:  \n",
        "\n",
        " X: el número de accidentes automovilísticos que ocurren al año en Virginia. - **Variable discreta**\n",
        "\n",
        " Y: el tiempo para jugar 18 hoyos de golf. - **Variable continua**\n",
        "\n",
        " M: la cantidad de leche que una vaca específica produce anualmente. - **Variable discreta**\n",
        "\n",
        " N: el número de huevos que una gallina pone mensualmente. - **Variable continua**\n",
        "\n",
        " P: el número de permisos para construcción que los funcionarios de una\n",
        "ciudad emiten cada mes. - **Variable continua**"
      ],
      "metadata": {
        "id": "fEtKa9njDcGy"
      }
    },
    {
      "cell_type": "markdown",
      "source": [
        "2. Considere la función de densidad\n",
        "\n",
        "$$f(x)= \\left\\{ \\begin{array}{lcc} k\\sqrt{x}, & 0<x<1 \\\\ \\\\ 0,  & en \\ otro\\ caso & & \\end{array} \\right.$$\n",
        "* Evalúe k.\n",
        "* Calcule F(x) y utilice el resultado para evaluar\n",
        "$$P(0.3<x<0.6)$$\n",
        "\n",
        "**Solucion**\n",
        "\n",
        "$$\\int_{0}^{1}f(x)dx=1$$\n",
        "$$\\int_{0}^{1}k\\sqrt{x} dx=1$$\n",
        "$$\\int_{0}^{1}k\\sqrt{x} dx=k \\int_{0}^{1}k\\sqrt{x} dx$$\n",
        "$$k[\\frac{2}{3}x^\\frac{3}{2}]=k(\\frac{2}{3} . 1^\\frac{3}{2}-\\frac{2}{3}.0^\\frac{3}{2})=\\frac{2}{3}k=1$$\n",
        "$$\\frac{2}{3}k=1\\Longrightarrow k=\\frac{3}{2}$$\n",
        "$$f(x)= \\int_{0}^{x} f(t) dt$$\n",
        "$$f(x)=\\int_{0}^{x}\\frac{3}{2}\\sqrt{tdt}$$\n",
        "$$f(x)=\\frac{3}{2}\\int_{0}^{x}\\sqrt{tdt}$$\n",
        "$$f(x)\\frac{3}{2}[\\frac{2}{3}t^\\frac{3}{2}]=\\frac{3}{2}(\\frac{2}{3}x^\\frac{3}{2}-\\frac{2}{3}.0^\\frac{3}{2})=x^\\frac{3}{2}$$\n",
        "$$P(0,3<x<0,6)=f(0,6)-f(0,3)=0,6^\\frac{3}{2}-0,3^\\frac{3}{2}$$\n",
        "$$P(0,3<x<0,6)=0,6^\\frac{3}{2}-0.3^\\frac{3}{2}=0.2160,027=0,189$$\n",
        "\n",
        "$$P(0,3<x<0,6)=0,189$$\n"
      ],
      "metadata": {
        "id": "ViYweQOExnY2"
      }
    },
    {
      "cell_type": "markdown",
      "source": [
        "3. El Departamento de Energía (DE) asigna proyectos mediante licitación y, por lo\n",
        "general, estima lo que debería ser una licitación razonable. Sea b el estimado. El\n",
        "DE determinó que la función de densidad de la licitación ganadora (baja) es\n",
        "\n",
        "\n",
        " $$f(y)= \\left\\{ \\begin{array}{lcc} \\frac{5}{8b},\\frac{2}{5} b<y<2b \\\\ \\\\ 0 &  & en \\ otro\\  caso &  & \\end{array} \\right.$$\n",
        "\n",
        "\n",
        "$$f(y)=\\int_{-\\infty}^{\\infty}f ( y ) d y\\int_{2/5b}^{2}\\frac{5}{8b}d y=\\frac{5t}{8b}\\int_{2/5b}^{2}d y$$\n",
        "\n",
        "* Demuestre que es una función de probabilidad\n",
        "$$\\frac{5}{8b}(y)\\rvert_\\frac{2}{5b}^{2b}\\frac{5}{8b}(2b-\\frac{2}{5}b)=(\\frac{10}{5}b-\\frac{2}{5}b)(=\\frac{5}{8b}(\\frac{8}{5}b)=1$$\n",
        "valor esperado se calcula como\n",
        "$$E[Y]=\\int_{-\\infty}^{\\infty}f ( y ) d y$$\n",
        "variación se calcula como\n",
        "$$Var[y]=mi[y^2]−(mi[Y])^2$$\n",
        "valor esperado\n",
        "$$E[y]=\\int_{-2/5b}^{2}y\\frac{5}{8b}d y$$\n",
        "$$mi[y^2]=\\int_{2/5b}^{2}y^2\\frac{5}{8b}dy$$\n",
        "$$mi[y^2]=\\frac{5}{8b}\\int_{2/5b}^{2}y^2 d y\\frac{5}{8b}\\frac{y^3}{3}\\rvert_\\frac{2}{5}^{2}=\\frac{124}{15} b^2$$\n",
        "Varianza\n",
        "$$Var[y]=\\frac{124}{15} b^2 - (\\frac{24}{15})^2=\\frac{124}{15} b^2-\\frac{576}{25}=\\frac{124}{15} b^2-\\frac{1152}{75}$$\n",
        "$$Var[y]=\\frac{124}{15} b^2 - (\\frac{1152}{75})=\\frac{124}{15} b^2-\\frac{2304}{150}=\\frac{1240}{150} b^2-\\frac{2304}{150}$$\n",
        "$$Var[y]=\\frac{62}{15} b^2 - \\frac{2304}{150}$$\n",
        "la variacion de Y es $$Var[y]=\\frac{62}{15} b^2 - \\frac{2304}{150}$$\n"
      ],
      "metadata": {
        "id": "1ufXyXWi97re"
      }
    },
    {
      "cell_type": "markdown",
      "source": [
        "4. Considere la función de densidad\n",
        "$$f(x)= \\left\\{ \\begin{array}{lcc} k\\sqrt{x}, & 0<x<1 \\\\ \\\\ 0, & en \\ otro\\ caso & & \\end{array} \\right.$$\n",
        " * Calcule F(x) y utilice el resultado para evaluar\n",
        " $$P(0.3<x<0.6)$$\n",
        "\n",
        " **Solucion**\n",
        " $$f(x)=\\int_{0}^{x}f(t)dt$$\n",
        " $$f(x)=\\int_{0}^{x}k\\sqrt{tdt}$$\n",
        "$$f(x)=k\\int_{0}^{x}\\sqrt{tdt}$$\n",
        "$$f(x)=k[\\frac{2}{3}t^\\frac{3}{2}]$$\n",
        "$$f(x)=k(\\frac{2}{3}^\\frac{3}{2}-\\frac{2}{3}. 0^\\frac{3}{2}$$\n",
        "$$f(x)=\\frac{2}{3}k \\ x^\\frac{3}{2}$$\n",
        "$$P(0,3<x<0,6)=f(0,6-f(0,3)$$\n",
        "$$P(0,3<x<0,6)=\\frac{2}{3}k(0,6)^\\frac{3}{2}-\\frac{2}{3}k(0,3)^\\frac{3}{2}$$"
      ],
      "metadata": {
        "id": "OKTIgyZI0AsH"
      }
    },
    {
      "cell_type": "markdown",
      "source": [
        "5. Las mediciones en los sistemas científicos siempre están sujetas a variación,\n",
        "algunas veces más que otras. Hay muchas estructuras para los errores de medición\n",
        "y los estadísticos pasan mucho tiempo modelándolos. Suponga que el error de\n",
        "medición X de cierta cantidad física es determinado por la siguiente función de\n",
        "densidad:\n",
        "$$f(X)= \\left\\{ \\begin{array}{lcc} K(3-X^2) &  &-1≤x≤1  \\\\ \\\\ 0 & & en \\ otro\\  caso &  & \\end{array} \\right.$$"
      ],
      "metadata": {
        "id": "n4Wp-f7W8BRX"
      }
    },
    {
      "cell_type": "markdown",
      "source": [
        "$$\n",
        "\\int_{-1}^{1} k(3 - x^2) \\, dx $$\n",
        "\n",
        "\n",
        "$$\n",
        "\\int_{-1}^{1} k(3 - x^2) \\, dx = k [(3x-\\frac{x^3}\n",
        "{3})]_{-1}^{1} $$\n",
        "\n",
        "\n",
        "$$ =K[(3(1)- \\frac{1^3} {3}) -(3(-1)- \\frac{(-1)^3} {3})] $$\n",
        "\n",
        "\n",
        "$$K= [(3 -\\frac{1}{3})-(-3-\\frac{1}{3}) $$\n",
        "\n",
        "\n",
        "$$ K=[(\\frac{8}{3})-(-\\frac{10}{3})] $$\n",
        "\n",
        "\n",
        "$$K= (\\frac{8}{3}+ \\frac{10}{3} )$$\n",
        "\n",
        "\n",
        "$$K*\\frac{18}{3}$$\n",
        "\n",
        "$$=6K$$\n",
        "\n",
        "\n",
        "\n"
      ],
      "metadata": {
        "id": "HzG3RGnr8GwQ"
      }
    },
    {
      "cell_type": "markdown",
      "source": [
        "**Demuestre si es o no una función continua**\n",
        "* **SI ES UNA FUNCION CONTINUA**"
      ],
      "metadata": {
        "id": "iiBL_2Br8Nhk"
      }
    },
    {
      "cell_type": "markdown",
      "source": [
        "6. Las impurezas en el lote del producto final de un proceso químico a menudo\n",
        "reflejan un grave problema. A partir de una cantidad considerable de datos\n",
        "recabados en la planta se sabe que la proporción Y de impurezas en un lote tiene\n",
        "una función de densidad dada por:\n",
        "$$f(y)= \\left\\{ \\begin{array}{lcc} 10(1-y)^9 &  &0≤x≤1  \\\\ \\\\ 0 & & en \\ otro\\  caso &  & \\end{array} \\right.$$"
      ],
      "metadata": {
        "id": "SbumJ-Gx8cwZ"
      }
    },
    {
      "cell_type": "markdown",
      "source": [
        "$$\n",
        "\\int_{0}^{1} 10(1 -y)^9 dy$$\n",
        "\n",
        "$$ 10 \\int_{0}^{1} (1 -y)^9 dy $$\n",
        "\n",
        "\n",
        "$$10[(\\frac{-(1-y)^{10}}\n",
        "{10}]_{0}^{1}$$\n",
        "\n",
        "$$10[\\frac{-(1-1)^{10}}\n",
        "{10}-\\frac{-(1-0)^{10}}\n",
        "{10}$$\n",
        "\n",
        "$$10[(\\frac{-0}\n",
        "{10}-\\frac{-1^{10}}\n",
        "{10}]$$\n",
        "$$[0+\\frac{1}\n",
        "{10}]$$\n",
        "$$10*\\frac{1}\n",
        "{10}=1$$"
      ],
      "metadata": {
        "id": "oiA573fx8hJw"
      }
    },
    {
      "cell_type": "markdown",
      "source": [
        "**si es una función de densidad continua pues esta es igual a 1**"
      ],
      "metadata": {
        "id": "zBAV9D3_8mNN"
      }
    },
    {
      "cell_type": "markdown",
      "source": [
        "7. Sea X una variable aleatoria con la siguiente distribución de probabilidad\n",
        "\n",
        "|x|f(x)|\n",
        "|-|-|            \n",
        "|-2|0.3|\n",
        "|3|0.2|\n",
        "|5|0.5|\n",
        "\n",
        "* Calcule la desviación estándar de X\n",
        "\n",
        "$$Mf(x)= -2(0.3)+3(0.2)+ 5(0.5)=2.5$$\n",
        "$$\\sigma^2=(-2-2.5)^2(0.3)(3-2.5)^2(0.2)(5-2.5)^2(0.5)= 9.252$$\n",
        "$$\\sigma=\\sqrt{9,25}=3.0413$$"
      ],
      "metadata": {
        "id": "78HlTxTDv2d-"
      }
    },
    {
      "cell_type": "code",
      "source": [
        "m=-2*0.3+3*0.2+5*0.5\n",
        "print(m)"
      ],
      "metadata": {
        "colab": {
          "base_uri": "https://localhost:8080/"
        },
        "id": "KGVHp83gCsDQ",
        "outputId": "82929866-c31a-420a-95a1-a295fe15a37e"
      },
      "execution_count": null,
      "outputs": [
        {
          "output_type": "stream",
          "name": "stdout",
          "text": [
            "2.5\n"
          ]
        }
      ]
    },
    {
      "cell_type": "code",
      "source": [
        "v=((-2-m)**2)*(0.3)+((3-m)**2)*(0.2)+((5-m)**2)*(0.5)\n",
        "print(v)"
      ],
      "metadata": {
        "colab": {
          "base_uri": "https://localhost:8080/"
        },
        "id": "Nj_rTi2xCN2-",
        "outputId": "c0e0c7cd-2865-4c2d-f524-db4ad43eb83b"
      },
      "execution_count": null,
      "outputs": [
        {
          "output_type": "stream",
          "name": "stdout",
          "text": [
            "9.25\n"
          ]
        }
      ]
    },
    {
      "cell_type": "code",
      "source": [
        "d=v**(0.5)\n",
        "print(d)"
      ],
      "metadata": {
        "colab": {
          "base_uri": "https://localhost:8080/"
        },
        "id": "lvOw4mJoD2Le",
        "outputId": "e45692b1-5a99-4e58-f25d-ef41c3f1e36e"
      },
      "execution_count": null,
      "outputs": [
        {
          "output_type": "stream",
          "name": "stdout",
          "text": [
            "3.0413812651491097\n"
          ]
        }
      ]
    },
    {
      "cell_type": "markdown",
      "source": [
        "**la desviacion estandar es de 3.0413**"
      ],
      "metadata": {
        "id": "_ZdXxLFq6Gxk"
      }
    },
    {
      "cell_type": "markdown",
      "source": [
        "8)La utilidad de un distribuidor, en unidades de $5000, por un automóvil nuevo es una variable aleatoria X que tiene la siguiente función de densidad.\n",
        "\n",
        "$$\\begin{equation}\n",
        "f(x) = \\int_{1}^{0}2(1-X)dx\\end{equation}$$\n",
        "\n",
        "\n",
        "$$\\begin{equation}\n",
        "f(x) = \\int_{1}^{0}(2-2x)dx\\end{equation}$$\n",
        "\n",
        "$$\\begin{equation}\n",
        "f(x) = \\int_{0}^{1}2xdx=2x\\rvert_1^02(1)-2(0)=2\\end{equation}$$\n",
        "\n",
        "\n",
        "$$\\begin{equation}\n",
        "f(x) = \\int_{0}^{1}2dx=2x\\rvert_1^0(1)^2-(0)^2=1\\end{equation}$$\n",
        "\n",
        "$$2-1=1$$"
      ],
      "metadata": {
        "id": "4Nfwl8UgBaMd"
      }
    },
    {
      "cell_type": "markdown",
      "source": [
        "9. Mediante un conjunto de datos, y por la amplia investigación, se sabe que la\n",
        "cantidad de tiempo que cierto empleado de una empresa llega tarde a trabajar,\n",
        "medido en segundos, es una variable aleatoria X con la siguiente función de\n",
        "densidad\n",
        "$$\\begin{equation}\n",
        "f(x) = \\int_{-50}^{50}\\frac{3}{4*50^3}(50^2-x^2dx)\\end{equation}$$\n",
        "\n",
        "calcular la media\n",
        "\n",
        "$$\\begin{equation}\n",
        "\\frac{3}{4*50^3}\\int_{-50}^{50}x(50^2-x^2)dx\\end{equation}$$\n",
        "\n",
        "$$\\begin{equation}\n",
        "\\frac{3}{4*50^3}\\int2500x-x^3dx\\end{equation}$$\n",
        "\n",
        "$$\\begin{equation}\n",
        "\\frac{3}{4*50^3}(\\int2500xdx-\\int x^3dx)\\end{equation}$$\n",
        "\n",
        "\n",
        "$$\\begin{equation}\n",
        "\\frac{3}{4*50^3}(1250x^2-\\frac{x^4}{4})\\end{equation}$$\n",
        "\n",
        "$$\\begin{equation}\n",
        "\\frac{15000x^2-3x^4}{16*50^3} \\rvert_{-50}^{50}\\end{equation}$$"
      ],
      "metadata": {
        "id": "kikGY4FNBvpz"
      }
    },
    {
      "cell_type": "markdown",
      "source": [
        "10. Se entregan dos altavoces idénticos a 12 personas y se les pide que los escuchen\n",
        "para determinar si hay alguna diferencia entre ellos. Suponga que sus respuestas\n",
        "son simplemente conjeturas. Calcule la probabilidad de que tres personas afirmen\n",
        "haber detectado una diferencia entre los dos altavoces.\n",
        "\n",
        "* $p=0.5$\n",
        "*$q=1-o.5=0.5$\n",
        "*$n=12$\n",
        "*$x=3$\n",
        "\n",
        "$$P(X=3)=\\binom{12}{3}(0.5)^{3}(0.5)^{12-3}$$\n",
        "$$P(X=3)\\approx0.0537(100\\%)=5.37\\%$$\n"
      ],
      "metadata": {
        "id": "VmtuFwZfE7n6"
      }
    },
    {
      "cell_type": "code",
      "source": [
        "import numpy as np\n",
        "import matplotlib.pyplot as plt\n",
        "from scipy.stats import binom\n"
      ],
      "metadata": {
        "id": "NzNrHlQ6G2lt"
      },
      "execution_count": null,
      "outputs": []
    },
    {
      "cell_type": "code",
      "source": [
        "n=12\n",
        "p=0.5\n",
        "x=3\n",
        "pro=binom.pmf(x, n, p)\n",
        "print(pro)\n"
      ],
      "metadata": {
        "colab": {
          "base_uri": "https://localhost:8080/"
        },
        "id": "WNMswOhWG983",
        "outputId": "b831eec2-d14e-49e9-f2bf-049afd88a330"
      },
      "execution_count": null,
      "outputs": [
        {
          "output_type": "stream",
          "name": "stdout",
          "text": [
            "0.053710937500000014\n"
          ]
        }
      ]
    },
    {
      "cell_type": "markdown",
      "source": [
        "* **La probabilidad de que tres personas afirmen haber detectado una diferencia entre los dos altavoces es del 5.37%**"
      ],
      "metadata": {
        "id": "Noxvb2DwHH-l"
      }
    },
    {
      "cell_type": "markdown",
      "source": [
        "11.Sea X una variable aleatoria discreta con función de densidad dada por:\n",
        "\n",
        "|x|f(x)|\n",
        "|-|-|            \n",
        "|1|9/40|\n",
        "|2|1/5|\n",
        "|3|1/8|\n",
        "|4|1/8|\n",
        "|5|3/20|\n",
        "|6|7/40\n",
        "\n",
        "\n",
        "$$Mf(x)= 1(9/40)+2(1/5)+ 3(1/8)+4(1/8)+5(3/20)*6(7/40)=2.85$$\n",
        "=media=2.85\n",
        "$$\\sigma^2=(1-2.85)^2(9/40)(2-2.85)^2(1/5)(3-2.85)^2(1/8)(4-2.85)^2(1/8)(5-2.85)^2(3/20)(6-2.85)^2(7/40)= 2.585$$\n",
        "$$\\sigma=\\sqrt{2.585}=1.6077$$"
      ],
      "metadata": {
        "id": "QfpYwO8yCH_z"
      }
    },
    {
      "cell_type": "code",
      "source": [
        "m=-1*9/40+2*1/5+3*1/8+4*1/8+5*3/20+6*7/40\n",
        "print(m)"
      ],
      "metadata": {
        "colab": {
          "base_uri": "https://localhost:8080/"
        },
        "id": "8OSxP9XNC8YC",
        "outputId": "220245d0-4be8-4b0e-abd6-694d9c3f057e"
      },
      "execution_count": null,
      "outputs": [
        {
          "output_type": "stream",
          "name": "stdout",
          "text": [
            "2.85\n"
          ]
        }
      ]
    },
    {
      "cell_type": "code",
      "source": [
        "v=((1-m)**2)*(9/40)+((2-m)**2)*(1/5)+((3-m)**2)*(1/8)+((4-m)**2)*(1/8)+((5-m)**2)*(3/20)+((5-m)**2)*(7/40)\n",
        "print(v)"
      ],
      "metadata": {
        "colab": {
          "base_uri": "https://localhost:8080/"
        },
        "id": "f0tZR2leE6dF",
        "outputId": "5ab44d59-cd0f-4fe7-9797-4c54c2dc5602"
      },
      "execution_count": null,
      "outputs": [
        {
          "output_type": "stream",
          "name": "stdout",
          "text": [
            "2.585\n"
          ]
        }
      ]
    },
    {
      "cell_type": "code",
      "source": [
        "d=v**(0.5)\n",
        "print(d)"
      ],
      "metadata": {
        "colab": {
          "base_uri": "https://localhost:8080/"
        },
        "id": "tAE7YvGpFzPO",
        "outputId": "3e0d07b8-4eca-4af6-fb1f-2bb4164733ca"
      },
      "execution_count": null,
      "outputs": [
        {
          "output_type": "stream",
          "name": "stdout",
          "text": [
            "1.6077935190813526\n"
          ]
        }
      ]
    },
    {
      "cell_type": "markdown",
      "source": [
        "12.Supóngase que el número de llamadas que entran a una central telefónica es de 30por hora. ¿Cuál es la probabilidad de que no se reciban llamadas en un período de 3\n",
        "minutos?\n",
        "\n",
        "$$\\begin{equation}\n",
        "P(X-k)=\\frac{e^−λλ^k}{k!}\\end{equation}$$\n",
        "\n",
        "\n",
        "$$\\begin{equation}\n",
        "P(X-k)=\\frac{e^-0.5(0.5)^0}{0!}\\end{equation}$$\n",
        "\n",
        "\n",
        "$$\\begin{equation}\n",
        "P(X-k)=e^-0.5=0.6065\\end{equation}$$"
      ],
      "metadata": {
        "id": "PekjUZMKGLAT"
      }
    },
    {
      "cell_type": "markdown",
      "source": [
        "**La probabilidad es de 60.65%**"
      ],
      "metadata": {
        "id": "IEiDh9vAGbUC"
      }
    },
    {
      "cell_type": "markdown",
      "source": [
        "13. En un auditorio se encuentran 135 estudiantes. La probabilidad de que uno de los\n",
        "estudiantes se encuentre hoy de cumpleaños es igual a 1 de 365 ¿Cuál es la\n",
        "probabilidad de que en el auditorio dos personas cumplan años?\n",
        "\n",
        "* $\\lambda=0,002739$\n",
        "* $t=135$\n",
        "* $x=2$\n",
        "$$P(X=2)=\\frac{0,002739^2*e^‐⁰⁰⁰²⁷³⁹}{2!}\\approx 0.0000037427838(100\\%)=0.00037427838\\%$$\n",
        "\n",
        "\n"
      ],
      "metadata": {
        "id": "tqDc3C_O2mfW"
      }
    },
    {
      "cell_type": "markdown",
      "source": [
        "* **la probabilidad de que en el auditorio dos personas cumplan años es de $$=0.00037427838\\%$$**"
      ],
      "metadata": {
        "id": "kf-tlmT0Y4m8"
      }
    },
    {
      "cell_type": "code",
      "source": [
        "import numpy as np\n",
        "import matplotlib.pyplot as plt\n",
        "from scipy.stats import poisson"
      ],
      "metadata": {
        "id": "wNI9oMrP-dX-"
      },
      "execution_count": null,
      "outputs": []
    },
    {
      "cell_type": "code",
      "source": [
        "x=2\n",
        "lamda=0.002739*1\n",
        "prob=poisson.pmf(x,lamda)\n",
        "print(prob)"
      ],
      "metadata": {
        "colab": {
          "base_uri": "https://localhost:8080/"
        },
        "id": "tSdCL6qt-hz-",
        "outputId": "fa2f7181-963d-4d03-d4ef-e0716afc14e4"
      },
      "execution_count": null,
      "outputs": [
        {
          "output_type": "stream",
          "name": "stdout",
          "text": [
            "3.7408004029078434e-06\n"
          ]
        }
      ]
    },
    {
      "cell_type": "markdown",
      "source": [
        "14. En cierto distrito de la ciudad se establece que la causa de 75% de todos los robos\n",
        "es la necesidad de dinero para comprar drogas. Calcule la probabilidad de que entre\n",
        "los siguientes cinco casos de robo que se reporten en este distrito, a) exactamente 2\n",
        "sean resultado de la necesidad de dinero para comprar drogas;\n",
        "\n",
        "* $p=0.75$\n",
        "*$q=1-o.75=0.25$\n",
        "*$n=5$\n",
        "*$x=2$\n",
        "\n",
        "$$P(X=5)=\\binom{5}{2}(0.75)^{2}(0.25)^{5-2}$$\n",
        "$$P(X=5)\\approx0.0878(100\\%)=8.78%$$"
      ],
      "metadata": {
        "id": "DcRsRe_3ZD2k"
      }
    },
    {
      "cell_type": "code",
      "source": [
        "import numpy as np\n",
        "import matplotlib.pyplot as plt\n",
        "from scipy.stats import binom"
      ],
      "metadata": {
        "id": "yJ9DyJid8bqY"
      },
      "execution_count": null,
      "outputs": []
    },
    {
      "cell_type": "code",
      "source": [
        "n=5\n",
        "p=0.75\n",
        "x=2\n",
        "pro=binom.pmf(x, n, p)\n",
        "print(pro)"
      ],
      "metadata": {
        "colab": {
          "base_uri": "https://localhost:8080/"
        },
        "id": "cX6ZJHCB7byw",
        "outputId": "a36e60e9-3080-442b-c1ab-43fb6bea36e6"
      },
      "execution_count": null,
      "outputs": [
        {
          "output_type": "stream",
          "name": "stdout",
          "text": [
            "0.08789062499999994\n"
          ]
        }
      ]
    },
    {
      "cell_type": "markdown",
      "source": [
        "* **la probablidad de que 2 robos sean la nececsidad de dinero para las drogas es del 8.78%**"
      ],
      "metadata": {
        "id": "ZI0bPEr9bLLi"
      }
    },
    {
      "cell_type": "markdown",
      "source": [
        "15. Una ciudad vecina considera entablar una demanda de anexión en contra de una\n",
        "subdivisión del condado de 1200 residencias. Si los ocupantes de la mitad de las\n",
        "residencias objetan la anexión, ¿cuál es la probabilidad de que en una muestra\n",
        "aleatoria de 10 residencias al menos 3 estén a favor de la anexión?\n",
        "\n",
        "* $k=600$\n",
        "*$N=1200$\n",
        "*$n=10$\n",
        "*$x=3$\n",
        "\n",
        "$$P(X=3)=\\frac{\\binom{600}{3}*\\binom{1200-600}{10-3}}{\\binom{1200}{10}}= 0,1168$$\n",
        "$$P(X=3)\\approx0.0878(100\\%)=11.68\\%$$"
      ],
      "metadata": {
        "id": "B_3bH1Fqbpgu"
      }
    },
    {
      "cell_type": "markdown",
      "source": [
        "* **la probabilidad de que en una muestra aleatoria de 10 residencias al menos 3 estén a favor de la anexión es de 11.68%**"
      ],
      "metadata": {
        "id": "ZEb1Dbt_mbIo"
      }
    },
    {
      "cell_type": "code",
      "source": [
        "import numpy as np\n",
        "import matplotlib.pyplot as plt\n",
        "from scipy.stats import hypergeom"
      ],
      "metadata": {
        "id": "ejSz-vej_hFX"
      },
      "execution_count": null,
      "outputs": []
    },
    {
      "cell_type": "code",
      "source": [
        "N=1200\n",
        "n=10\n",
        "k=600\n",
        "x=5\n",
        "prob_1=hypergeom.pmf(x,N,n,k)\n",
        "print(prob_1)"
      ],
      "metadata": {
        "colab": {
          "base_uri": "https://localhost:8080/"
        },
        "id": "mmUIei2V_kpc",
        "outputId": "88b9c410-31a5-4c15-fd49-8224259b2986"
      },
      "execution_count": null,
      "outputs": [
        {
          "output_type": "stream",
          "name": "stdout",
          "text": [
            "0.24712516150585778\n"
          ]
        }
      ]
    },
    {
      "cell_type": "markdown",
      "source": [
        "16. La probabilidad de que una persona que estudia la carrera de piloto privado\n",
        "apruebe el examen escrito para obtener la licencia es de 0.7. Calcule la\n",
        "probabilidad de que cierto estudiante apruebe el examen en el tercer intento"
      ],
      "metadata": {
        "id": "8UEZA5An80wR"
      }
    },
    {
      "cell_type": "markdown",
      "source": [
        "$$DATOS$$\n",
        "* $x=3$\n",
        "*$p=0,7$\n",
        "*$q=0,3$\n",
        "$$SOLUCION$$\n",
        "\n",
        "* $g(x,p)=p*q^{x-1}$\n",
        "*$g(3,0.7)=0.7*(0.3^2)=0.063= 6,3\\% $\n"
      ],
      "metadata": {
        "id": "5VJHNNld85a9"
      }
    },
    {
      "cell_type": "markdown",
      "source": [
        "* **la probabilidad de que una persona que estudie la carrera de piloto privado\n",
        "apruebe el examen escrito para obtener la licencia es de es del 6.3%**"
      ],
      "metadata": {
        "id": "P7v0vrBZ8-VZ"
      }
    },
    {
      "cell_type": "markdown",
      "source": [
        "17. Los cambios en los procedimientos de los aeropuertos requieren una planeación\n",
        "considerable. Los índices de llegadas de los aviones son factores importantes que\n",
        "deben tomarse en cuenta. Suponga que los aviones pequeños llegan a cierto\n",
        "aeropuerto, de acuerdo con un proceso de Poisson, con una frecuencia de 6 por\n",
        "hora. De esta manera, el parámetro de Poisson para las llegadas en un periodo de\n",
        "horas es μ = 6t.\n",
        "¿Cuál es la probabilidad de que lleguen exactamente 4 aviones pequeños durante un\n",
        "periodo de una hora?"
      ],
      "metadata": {
        "id": "eruM35Nr9CDo"
      }
    },
    {
      "cell_type": "markdown",
      "source": [
        "$$P(X-4)=e^{-6}\\frac{{6}^{4}}\n",
        "{4!}= 0.13386$$"
      ],
      "metadata": {
        "id": "ScBJCjmf9Epf"
      }
    },
    {
      "cell_type": "markdown",
      "source": [
        "* **la probabilidad de que lleguen exactamente 4 aviones pequeños es del 13,38%**"
      ],
      "metadata": {
        "id": "uNjDckij9Hwt"
      }
    }
  ]
}