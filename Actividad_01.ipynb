{
  "nbformat": 4,
  "nbformat_minor": 0,
  "metadata": {
    "colab": {
      "provenance": [],
      "authorship_tag": "ABX9TyPyp2vAPUHht6pZ1v8tpqee",
      "include_colab_link": true
    },
    "kernelspec": {
      "name": "python3",
      "display_name": "Python 3"
    },
    "language_info": {
      "name": "python"
    }
  },
  "cells": [
    {
      "cell_type": "markdown",
      "metadata": {
        "id": "view-in-github",
        "colab_type": "text"
      },
      "source": [
        "<a href=\"https://colab.research.google.com/github/LuisaMariaMontoyaConde1994/TrabajoClaseestadistica/blob/main/Actividad_01.ipynb\" target=\"_parent\"><img src=\"https://colab.research.google.com/assets/colab-badge.svg\" alt=\"Open In Colab\"/></a>"
      ]
    },
    {
      "cell_type": "markdown",
      "source": [
        "***Luisa Fernanda Sánchez Herrera***"
      ],
      "metadata": {
        "id": "eB5u9YpcA6zu"
      }
    },
    {
      "cell_type": "markdown",
      "source": [
        "En una elección, un candidato tiene una probabilidad del $60\\%$ de recibir un voto en cada votación individual.\n",
        "\n",
        "Si se emiten $20$ votos.\n",
        "\n",
        "1.   ¿Cuál es la probabilidad de que al menos obtenga $12$ votos?\n",
        "2.   ¿Cuál es la probabilidad de que a lo más obtenga $5$ votos?\n",
        "3.  ¿Cuál es la probabilidad de que no obtenga votos?\n",
        "4.  ¿Cuál es la probabilidad de que obtenga entre $8$ y $10$ votos?"
      ],
      "metadata": {
        "id": "CsZAVKeoBFSP"
      }
    },
    {
      "cell_type": "markdown",
      "source": [
        "¿Cuál es la probabilidad de que al menos obtenga $12$ votos?\n",
        "\n",
        "$$P(X≥12)=1-P(X<12)$$"
      ],
      "metadata": {
        "id": "D3IBBsOvB4Wq"
      }
    },
    {
      "cell_type": "code",
      "source": [
        "import numpy as np\n",
        "import matplotlib.pyplot as plt\n",
        "from scipy.stats import binom"
      ],
      "metadata": {
        "id": "EaJzfYsFDhJt"
      },
      "execution_count": null,
      "outputs": []
    },
    {
      "cell_type": "code",
      "execution_count": null,
      "metadata": {
        "colab": {
          "base_uri": "https://localhost:8080/"
        },
        "id": "g7iQ0BlDA2dO",
        "outputId": "d987d6ba-57ec-4543-804a-7aaf77508348"
      },
      "outputs": [
        {
          "output_type": "stream",
          "name": "stdout",
          "text": [
            "0.5955987253122248\n",
            "La probabilidad es 59.55987253122248 %\n"
          ]
        }
      ],
      "source": [
        "n=20\n",
        "p=0.6\n",
        "x=12\n",
        "prob=1-binom.cdf(x-1,n,p)\n",
        "print(prob)\n",
        "m=prob*100\n",
        "print('La probabilidad es',m,'%')"
      ]
    },
    {
      "cell_type": "markdown",
      "source": [
        "***Rta:*** La probabilidad de que al menos obtenga $12$ votos es del  $59.55\\%$  aproximadamente."
      ],
      "metadata": {
        "id": "N2p8xM8kDpwn"
      }
    },
    {
      "cell_type": "markdown",
      "source": [
        "¿Cuál es la probabilidad de que a lo más obtenga  $5$  votos?\n",
        "\n",
        "$$P(X\\leq 5)$$"
      ],
      "metadata": {
        "id": "2-c4JcYjD8H_"
      }
    },
    {
      "cell_type": "code",
      "source": [
        "n=20\n",
        "p=0.6\n",
        "x=5\n",
        "prob=binom.cdf(x,n,p)\n",
        "print(prob)\n",
        "m=prob*100\n",
        "print('La probabilidad es',m,'%')"
      ],
      "metadata": {
        "colab": {
          "base_uri": "https://localhost:8080/"
        },
        "id": "GDwMlPkwEPDf",
        "outputId": "55af1a3f-ddcb-48c1-d38d-82e9726b3b03"
      },
      "execution_count": null,
      "outputs": [
        {
          "output_type": "stream",
          "name": "stdout",
          "text": [
            "0.001611524643456288\n",
            "La probabilidad es 0.1611524643456288 %\n"
          ]
        }
      ]
    },
    {
      "cell_type": "markdown",
      "source": [
        "***Rta:*** La probabilidad de que a lo más obtenga $5$ votos es del  $0.16\\%$  aproximadamente."
      ],
      "metadata": {
        "id": "c7Rw_l4BETn4"
      }
    },
    {
      "cell_type": "markdown",
      "source": [
        "¿Cuál es la probabilidad de que no obtenga votos?\n",
        "\n",
        "$$P(X=0)=\\binom{20}{0}(0.6)^{0}(0.4)^{20-0}$$\n",
        "$$≈1.0995116277760013e-08$$\n",
        "$$≈1.0995116277760013e-08(100\\%)$$\n",
        "$$=1.09e\\%$$"
      ],
      "metadata": {
        "id": "V-A-AxjLEpxQ"
      }
    },
    {
      "cell_type": "code",
      "source": [
        "n=20\n",
        "p=0.6\n",
        "x=0\n",
        "prob=binom.pmf(x,n,p)\n",
        "print(prob)\n",
        "m=prob*100\n",
        "print('La probabilidad es',m,'%')"
      ],
      "metadata": {
        "colab": {
          "base_uri": "https://localhost:8080/"
        },
        "id": "pZZhZy_hFLgK",
        "outputId": "80391a39-85ad-4bbc-f2ff-254e9e6e7c01"
      },
      "execution_count": null,
      "outputs": [
        {
          "output_type": "stream",
          "name": "stdout",
          "text": [
            "1.0995116277760013e-08\n",
            "La probabilidad es 1.0995116277760013e-06 %\n"
          ]
        }
      ]
    },
    {
      "cell_type": "markdown",
      "source": [
        "***Rta:*** La probabilidad de que no obtenga votos es del  $1.09e\\%$  aproximadamente"
      ],
      "metadata": {
        "id": "RX_JciMGFZ3i"
      }
    },
    {
      "cell_type": "markdown",
      "source": [
        "¿Cuál es la probabilidad de que obtenga entre  $8$  y  $10$  votos?\n",
        "\n",
        "$$P(8\\leq P(x) \\leq 10)$$"
      ],
      "metadata": {
        "id": "-Dy1yOSiFs71"
      }
    },
    {
      "cell_type": "code",
      "source": [
        "n=20\n",
        "p=0.6\n",
        "x=10\n",
        "prob1=binom.cdf(x,n,p)\n",
        "print(prob1)\n",
        "m=prob1*100\n",
        "print(m,'%')"
      ],
      "metadata": {
        "colab": {
          "base_uri": "https://localhost:8080/"
        },
        "id": "f2kd5y7bGRFN",
        "outputId": "f810afc3-9c76-47e8-f32b-804eee7d3077"
      },
      "execution_count": null,
      "outputs": [
        {
          "output_type": "stream",
          "name": "stdout",
          "text": [
            "0.24466279668360685\n",
            "24.466279668360684 %\n"
          ]
        }
      ]
    },
    {
      "cell_type": "code",
      "source": [
        "n=20\n",
        "p=0.6\n",
        "x=8\n",
        "prob2=binom.cdf(x,n,p)\n",
        "print(prob2)\n",
        "t=prob2*100\n",
        "print(t,'%')"
      ],
      "metadata": {
        "colab": {
          "base_uri": "https://localhost:8080/"
        },
        "id": "9DRl6aLxG042",
        "outputId": "145d8a7b-1740-4d8b-e8a9-02565c1ed673"
      },
      "execution_count": null,
      "outputs": [
        {
          "output_type": "stream",
          "name": "stdout",
          "text": [
            "0.056526367034253025\n",
            "5.652636703425302 %\n"
          ]
        }
      ]
    },
    {
      "cell_type": "code",
      "source": [
        "r=m-t\n",
        "print('La probabilidad es',r,'%')"
      ],
      "metadata": {
        "colab": {
          "base_uri": "https://localhost:8080/"
        },
        "id": "w3h5oX9tHFXG",
        "outputId": "316b1468-2817-408d-feaa-93609ef4fe3b"
      },
      "execution_count": null,
      "outputs": [
        {
          "output_type": "stream",
          "name": "stdout",
          "text": [
            "La probabilidad es 18.813642964935383 %\n"
          ]
        }
      ]
    },
    {
      "cell_type": "markdown",
      "source": [
        "***Rta:*** La probabilidad de que obtenga entre $8$ y $10$ votos es del  $18.81\\%$  aproximadamente"
      ],
      "metadata": {
        "id": "uD0xHloVHPa9"
      }
    }
  ]
}