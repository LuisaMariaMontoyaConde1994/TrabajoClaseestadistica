{
  "nbformat": 4,
  "nbformat_minor": 0,
  "metadata": {
    "colab": {
      "provenance": [],
      "authorship_tag": "ABX9TyP77yEBTJUIDLjiv38HtXtV",
      "include_colab_link": true
    },
    "kernelspec": {
      "name": "python3",
      "display_name": "Python 3"
    },
    "language_info": {
      "name": "python"
    }
  },
  "cells": [
    {
      "cell_type": "markdown",
      "metadata": {
        "id": "view-in-github",
        "colab_type": "text"
      },
      "source": [
        "<a href=\"https://colab.research.google.com/github/LuisaMariaMontoyaConde1994/TrabajoClaseestadistica/blob/main/Actividad_1_Daniela_Gualtero_M.ipynb\" target=\"_parent\"><img src=\"https://colab.research.google.com/assets/colab-badge.svg\" alt=\"Open In Colab\"/></a>"
      ]
    },
    {
      "cell_type": "code",
      "execution_count": 1,
      "metadata": {
        "id": "Z-U-1ZAqEkHo"
      },
      "outputs": [],
      "source": [
        "import numpy as np\n",
        "import matplotlib.pyplot as plt\n",
        "from scipy.stats import binom\n"
      ]
    },
    {
      "cell_type": "markdown",
      "source": [
        "En una elección, un candidato tiene una probabilidad del $60\\%$ de recibir un voto en cada votación individual. Si se emiten 20 votos.\n",
        "\n",
        "\n",
        "1.  ¿Cuál es la probabilidad de que al menos obtenga $12$ votos?\n",
        "2.  ¿Cuál es la probabilidad de que lo más obtenga $5$ votos?\n",
        "3.  ¿Cuál es la probabilidd de que no obtenga votos.\n",
        "4.  ¿Cuál es la probabilidad de que obtenga entre $8$ y $10$ votos?"
      ],
      "metadata": {
        "id": "e3koYICoEle5"
      }
    },
    {
      "cell_type": "markdown",
      "source": [
        "1. ¿Cuál es la probabilidad que al menos obtenga $12$ votos?\n",
        "$$P(X\\geq 12)=1-P(X< 12)$$"
      ],
      "metadata": {
        "id": "Ku0nUPczE9UH"
      }
    },
    {
      "cell_type": "code",
      "source": [
        "n=20\n",
        "p=0.6\n",
        "x=12\n",
        "prob=1-binom.cdf(x-1,n,p)\n",
        "m=prob*100\n",
        "print('La probabilidad es',m,'%')"
      ],
      "metadata": {
        "colab": {
          "base_uri": "https://localhost:8080/"
        },
        "id": "_xJ5Sb0jFc8_",
        "outputId": "ff3b9cee-7498-463b-d7ed-0505006b814e"
      },
      "execution_count": 2,
      "outputs": [
        {
          "output_type": "stream",
          "name": "stdout",
          "text": [
            "La probabilidad es 59.55987253122248 %\n"
          ]
        }
      ]
    },
    {
      "cell_type": "markdown",
      "source": [
        "La probabilidad de que al menos obtenga $12$ votos es del $59.55\\%$"
      ],
      "metadata": {
        "id": "JsPFY0fvHN33"
      }
    },
    {
      "cell_type": "markdown",
      "source": [
        "2.   ¿Cuál es la probabilidad de que lo más obtenga $5$ votos?\n",
        "$$p(X\\leq 5)$$"
      ],
      "metadata": {
        "id": "S1eCwLf-HdTe"
      }
    },
    {
      "cell_type": "code",
      "source": [
        "n=20\n",
        "p=0.6\n",
        "x=5\n",
        "prob=binom.cdf(x,n,p)\n",
        "print(prob)\n",
        "m=prob*100\n",
        "print('La probabilidad es',m,'%')"
      ],
      "metadata": {
        "colab": {
          "base_uri": "https://localhost:8080/"
        },
        "id": "LCJ2sPqjH4_A",
        "outputId": "74f1b518-c6ba-470b-8291-649ed0a4c7ab"
      },
      "execution_count": 4,
      "outputs": [
        {
          "output_type": "stream",
          "name": "stdout",
          "text": [
            "0.001611524643456288\n",
            "La probabilidad es 0.1611524643456288 %\n"
          ]
        }
      ]
    },
    {
      "cell_type": "markdown",
      "source": [
        "La probabilidad de que lo más obtenga $5$ votos es del $0.16\\%$"
      ],
      "metadata": {
        "id": "6892VJ18IQYt"
      }
    },
    {
      "cell_type": "markdown",
      "source": [
        "3.  ¿cual es la probabilidad que no obtenga votos?\n",
        "$$P(x=0)=\\binom{20}{0}(0.6)^{0}(0.4)^{20-0}$$\n",
        "$$\\approx 1.0995116277760013e-08 $$\n",
        "$$\\approx 1.0995116277760013e-08(100\\%)=1.09e\\%$$\n"
      ],
      "metadata": {
        "id": "5-CzpcIOIZ11"
      }
    },
    {
      "cell_type": "code",
      "source": [
        "n=20\n",
        "p=0.6\n",
        "x=0\n",
        "prob=binom.pmf(x,n,p)\n",
        "print(prob)\n",
        "m=prob*100\n",
        "print('la probabilidad es',m,'%')"
      ],
      "metadata": {
        "colab": {
          "base_uri": "https://localhost:8080/"
        },
        "id": "2EpN0MxsJpTk",
        "outputId": "5801b772-f161-4984-c65f-cad3184a8b70"
      },
      "execution_count": 20,
      "outputs": [
        {
          "output_type": "stream",
          "name": "stdout",
          "text": [
            "1.0995116277760013e-08\n",
            "la probabilidad es 1.0995116277760013e-06 %\n"
          ]
        }
      ]
    },
    {
      "cell_type": "markdown",
      "source": [
        "La probabilidad de que no obtenga votos es de $1.0995116277760013e-06 %$"
      ],
      "metadata": {
        "id": "XENDUr5COcQR"
      }
    },
    {
      "cell_type": "markdown",
      "source": [
        "4.  ¿Cuál es la probabilidad de que obtenga entre $8$ y $10$ votos?\n"
      ],
      "metadata": {
        "id": "RxjeSvFZKE48"
      }
    },
    {
      "cell_type": "code",
      "source": [
        "n=20\n",
        "p=0.6\n",
        "x=10\n",
        "prob=binom.cdf(x,n,p)\n",
        "print(prob)\n",
        "r=prob*100\n",
        "print('La probabilidad es',r,'%')"
      ],
      "metadata": {
        "colab": {
          "base_uri": "https://localhost:8080/"
        },
        "id": "bRhWLSzhKeHL",
        "outputId": "77ed18fe-91dd-490b-9acf-f69ce470aa48"
      },
      "execution_count": 16,
      "outputs": [
        {
          "output_type": "stream",
          "name": "stdout",
          "text": [
            "0.24466279668360685\n",
            "La probabilidad es 24.466279668360684 %\n"
          ]
        }
      ]
    },
    {
      "cell_type": "code",
      "source": [
        "n=20\n",
        "p=0.6\n",
        "x=8\n",
        "prob=binom.cdf(x,n,p)\n",
        "print(prob)\n",
        "t=prob*100\n",
        "print('La probabilidad es',t,'%')"
      ],
      "metadata": {
        "colab": {
          "base_uri": "https://localhost:8080/"
        },
        "id": "BbUZzbeMK5Gd",
        "outputId": "8d19cd1f-c7c9-4353-90f4-317eb78a072a"
      },
      "execution_count": 17,
      "outputs": [
        {
          "output_type": "stream",
          "name": "stdout",
          "text": [
            "0.056526367034253025\n",
            "La probabilidad es 5.652636703425302 %\n"
          ]
        }
      ]
    },
    {
      "cell_type": "code",
      "source": [
        "p=r-t\n",
        "print(p)"
      ],
      "metadata": {
        "colab": {
          "base_uri": "https://localhost:8080/"
        },
        "id": "924MYSVdNtZC",
        "outputId": "b43d1db9-c844-4144-bc4a-e8a8a279ecfd"
      },
      "execution_count": 19,
      "outputs": [
        {
          "output_type": "stream",
          "name": "stdout",
          "text": [
            "18.813642964935383\n"
          ]
        }
      ]
    },
    {
      "cell_type": "markdown",
      "source": [
        "La probabilidad de que obtenga entre 8 y 10 votos es de $18.81%$"
      ],
      "metadata": {
        "id": "9gQbqBFXOOro"
      }
    }
  ]
}