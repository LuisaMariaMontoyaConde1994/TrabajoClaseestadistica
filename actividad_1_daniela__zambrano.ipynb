{
  "nbformat": 4,
  "nbformat_minor": 0,
  "metadata": {
    "colab": {
      "provenance": [],
      "authorship_tag": "ABX9TyMTF/J5/wPk7T/4/RZ9Uosp",
      "include_colab_link": true
    },
    "kernelspec": {
      "name": "python3",
      "display_name": "Python 3"
    },
    "language_info": {
      "name": "python"
    }
  },
  "cells": [
    {
      "cell_type": "markdown",
      "metadata": {
        "id": "view-in-github",
        "colab_type": "text"
      },
      "source": [
        "<a href=\"https://colab.research.google.com/github/LuisaMariaMontoyaConde1994/TrabajoClaseestadistica/blob/main/actividad_1_daniela__zambrano.ipynb\" target=\"_parent\"><img src=\"https://colab.research.google.com/assets/colab-badge.svg\" alt=\"Open In Colab\"/></a>"
      ]
    },
    {
      "cell_type": "code",
      "source": [
        "import numpy as np\n",
        "import matplotlib.pyplot as plt\n",
        "from scipy.stats import binom"
      ],
      "metadata": {
        "id": "csVJr8fjG7L4"
      },
      "execution_count": 17,
      "outputs": []
    },
    {
      "cell_type": "markdown",
      "source": [
        "En una elección un candidato tiene una probabilidad del $60\\%$ de recibir un voto en cada votacion individual. si se emiten 20 votos.\n",
        "1.   ¿Cuál es la probabilidad de que al menos obtenga 12 votos?\n",
        "2.   ¿Cuál es la probabilidad de que lo más obtenga 5 votos?\n",
        "3.  ¿Cuál es la probabilidd de que no obtenga votos.\n",
        "4.  ¿Cuál es la probabilidad de que obtenga entre 8 y 10 votos?"
      ],
      "metadata": {
        "id": "dm4ipWlUBN_R"
      }
    },
    {
      "cell_type": "markdown",
      "source": [
        "1. ¿cuál es la probabilidad de que al menos obtenga 12 votos?\n",
        "$$p(X\\geq 12)=1-P(X<12)$$"
      ],
      "metadata": {
        "id": "WQxedOJ4D09f"
      }
    },
    {
      "cell_type": "code",
      "source": [
        "n=20\n",
        "p=0.6\n",
        "x=12\n",
        "prob=1-binom.cdf(x-1,n,p)\n",
        "m=prob*100\n",
        "print('la probabilidad es',m,'%')"
      ],
      "metadata": {
        "colab": {
          "base_uri": "https://localhost:8080/"
        },
        "id": "P8NW-ophGCOY",
        "outputId": "306775db-5f86-41c9-ef95-5553277910db"
      },
      "execution_count": 18,
      "outputs": [
        {
          "output_type": "stream",
          "name": "stdout",
          "text": [
            "la probabilidad es 59.55987253122248 %\n"
          ]
        }
      ]
    },
    {
      "cell_type": "markdown",
      "source": [
        "La probabilidad de que al menos obtenga 12 votos es del $59.55\\%$\n"
      ],
      "metadata": {
        "id": "YEORgadMHeFR"
      }
    },
    {
      "cell_type": "markdown",
      "source": [
        "2. ¿Cuál es la probabilidad de que lo más obtenga 5 votos?\n",
        "$$P(X\\leq 5)$$"
      ],
      "metadata": {
        "id": "bqPpK3A8HvUh"
      }
    },
    {
      "cell_type": "code",
      "source": [
        "N=20\n",
        "P=0.6\n",
        "x=5\n",
        "prob=binom.cdf(x,n,p)\n",
        "print(prob)\n",
        "m=prob*100\n",
        "print('la probabilidad es',m,'%')"
      ],
      "metadata": {
        "colab": {
          "base_uri": "https://localhost:8080/"
        },
        "id": "XXdfvewXIOLB",
        "outputId": "b1e2e52d-1cd3-4172-f18e-e71410680827"
      },
      "execution_count": 19,
      "outputs": [
        {
          "output_type": "stream",
          "name": "stdout",
          "text": [
            "0.001611524643456288\n",
            "la probabilidad es 0.1611524643456288 %\n"
          ]
        }
      ]
    },
    {
      "cell_type": "markdown",
      "source": [
        "la probabilidad de que a lo más obtenga 5 votos es $0.16\\%$"
      ],
      "metadata": {
        "id": "H8QIfqY4IUE5"
      }
    },
    {
      "cell_type": "markdown",
      "source": [
        "3. ¿cual es la probabilidad que no obtenga votos?\n",
        "$$P(x=0)=\\binom{20}{0}(0.6)^{0}(0.4)^{20-0}$$\n",
        "$$\\approx 1.0995116277760013e-08 $$\n",
        "$$\\approx 1.0995116277760013e-08(100\\%)=1.09e\\%$$"
      ],
      "metadata": {
        "id": "g_EFNhk8Im_B"
      }
    },
    {
      "cell_type": "code",
      "source": [
        "n=20\n",
        "p=0.6\n",
        "x=0\n",
        "prob=binom.pmf(x,n,p)\n",
        "print(prob)\n",
        "m=prob*100\n",
        "print('la probabilidad es',m,'%')"
      ],
      "metadata": {
        "colab": {
          "base_uri": "https://localhost:8080/"
        },
        "id": "BZ50NjixKpui",
        "outputId": "2531709c-e7f2-4c81-faff-7dda09ceaedb"
      },
      "execution_count": 30,
      "outputs": [
        {
          "output_type": "stream",
          "name": "stdout",
          "text": [
            "1.0995116277760013e-08\n",
            "la probabilidad es 1.0995116277760013e-06 %\n"
          ]
        }
      ]
    },
    {
      "cell_type": "markdown",
      "source": [
        "la probabilidad de que no obtenga votos es $1.099e%$"
      ],
      "metadata": {
        "id": "2DWPRBiJNU5S"
      }
    },
    {
      "cell_type": "markdown",
      "source": [
        "4. ¿cual es la probabilidad de que obtenga entre 8 y 10 votos?\n"
      ],
      "metadata": {
        "id": "v4CgnTAOLYEj"
      }
    },
    {
      "cell_type": "code",
      "source": [
        "N=20\n",
        "P=0.6\n",
        "x=8\n",
        "prob=binom.cdf(x,n,p)\n",
        "print(prob)\n",
        "r=prob*100\n",
        "print('la probabilidad es',r,'%')"
      ],
      "metadata": {
        "colab": {
          "base_uri": "https://localhost:8080/"
        },
        "id": "NlMouyooMwmS",
        "outputId": "082a646a-d253-4d68-b689-d6d0565b008c"
      },
      "execution_count": 35,
      "outputs": [
        {
          "output_type": "stream",
          "name": "stdout",
          "text": [
            "0.056526367034253025\n",
            "la probabilidad es 5.652636703425302 %\n"
          ]
        }
      ]
    },
    {
      "cell_type": "code",
      "source": [
        "N=20\n",
        "P=0.6\n",
        "x=10\n",
        "prob=binom.cdf(x,n,p)\n",
        "print(prob)\n",
        "c=prob*100\n",
        "print('la probabilidad es',c,'%')"
      ],
      "metadata": {
        "colab": {
          "base_uri": "https://localhost:8080/"
        },
        "id": "-bYO93UGMo7K",
        "outputId": "c7613e46-cb49-464a-b288-c6d038338929"
      },
      "execution_count": 36,
      "outputs": [
        {
          "output_type": "stream",
          "name": "stdout",
          "text": [
            "0.24466279668360685\n",
            "la probabilidad es 24.466279668360684 %\n"
          ]
        }
      ]
    },
    {
      "cell_type": "code",
      "source": [
        "p=c-r\n",
        "print(p)"
      ],
      "metadata": {
        "colab": {
          "base_uri": "https://localhost:8080/"
        },
        "id": "uI64MH5SNyfV",
        "outputId": "d1b213ec-43d8-467f-cb1f-cbabec312695"
      },
      "execution_count": 37,
      "outputs": [
        {
          "output_type": "stream",
          "name": "stdout",
          "text": [
            "18.813642964935383\n"
          ]
        }
      ]
    },
    {
      "cell_type": "markdown",
      "source": [
        "la probabilidad de que obtenga entre 8 y 10 es $18.81\\%$"
      ],
      "metadata": {
        "id": "dnthmU2NOV8L"
      }
    }
  ]
}