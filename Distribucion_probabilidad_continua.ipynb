{
  "nbformat": 4,
  "nbformat_minor": 0,
  "metadata": {
    "colab": {
      "provenance": [],
      "include_colab_link": true
    },
    "kernelspec": {
      "name": "python3",
      "display_name": "Python 3"
    },
    "language_info": {
      "name": "python"
    }
  },
  "cells": [
    {
      "cell_type": "markdown",
      "metadata": {
        "id": "view-in-github",
        "colab_type": "text"
      },
      "source": [
        "<a href=\"https://colab.research.google.com/github/LuisaMariaMontoyaConde1994/TrabajoClaseestadistica/blob/main/Distribucion_probabilidad_continua.ipynb\" target=\"_parent\"><img src=\"https://colab.research.google.com/assets/colab-badge.svg\" alt=\"Open In Colab\"/></a>"
      ]
    },
    {
      "cell_type": "markdown",
      "source": [
        "Karen Daniela Gualtero Molano"
      ],
      "metadata": {
        "id": "8GcrYtvzOG38"
      }
    },
    {
      "cell_type": "markdown",
      "source": [
        "La proporción de personas que responden a cierta encuesta enviada por correo es una variable aleatoria continua que tiene la siguiente función."
      ],
      "metadata": {
        "id": "pXFM1OqNl6qp"
      }
    },
    {
      "cell_type": "markdown",
      "source": [
        "$$f(x)= \\left\\{ \\begin{array}{lcc} \\frac{2}{5}(x+2) & si & 0<x<1 \\\\ \\\\ 0 &  & en \\ otro\\  caso &  & \\end{array} \\right.$$\n",
        "\n",
        "$$\\int_{-\\infty}^{\\infty}f(x)dx=\\int_{a}^{b}f(x)dx =1$$\n",
        "\n",
        "$$=\\int_{0}^{1}\\frac{2}{5}(x+2)dx$$"
      ],
      "metadata": {
        "id": "fGN_UxWCOHpk"
      }
    },
    {
      "cell_type": "markdown",
      "source": [
        "\n",
        "$$=\\frac{2}{5}\\left(x\\int_{0}^{1}dx +2\\int_{0}^{1}dx\\right)$$\n",
        "\n",
        "$$=\\frac{2}{5}\\left(\\frac{x^2}{2}+2x\\right)$$\n",
        "\n",
        "$$=\\left(\\frac{1}{5}x^2 +\\frac{4}{5}x\\right)$$\n",
        "\n",
        "$$=\\frac{1}{5} 1^2 +\\frac{4}{5} 1 - \\left(\\frac{1}{5} 0^2 +\\frac{4}{5}0\\right)$$\n",
        "\n",
        "$$=1$$\n",
        "\n",
        "\n",
        "\n",
        "\n",
        "\n",
        "\n",
        "\n"
      ],
      "metadata": {
        "id": "WuFYM4q9Tzwg"
      }
    },
    {
      "cell_type": "markdown",
      "source": [
        "A) Demuestre si cumple con la distribución de probabilidad continua = Sí, si cumple por el resultado fue 1"
      ],
      "metadata": {
        "id": "8TuZwonkgF3x"
      }
    },
    {
      "cell_type": "markdown",
      "source": [
        "B) $P\\left(\\frac{1}{4}<X<\\frac{1}{2}\\right)$\n",
        "\n",
        "$$\\left(\\frac{(1/2)^2}{5}+\\frac{4(1/2)}{5}\\right)-\\left(\\frac{(1/4)^2}{5}+\\frac{4(1/4)}{5}\\right)$$\n",
        "\n",
        "$$=\\left(\\frac{1}{20}+\\frac{2}{5}\\right)-\\left(\\frac{1}{80}+\\frac{1}{5}\\right)$$\n",
        "$$=\\frac{9}{20}-\\frac{17}{80}$$\n",
        "$$=\\frac{19}{80}$$\n",
        "\n",
        "$$=0.2375$$\n",
        "\n",
        "La probabilidad de $P\\left(\\frac{1}{4}<X<\\frac{1}{2}\\right)$ es igual a = $0.2375$"
      ],
      "metadata": {
        "id": "KH0SHPQ-nIfV"
      }
    }
  ]
}