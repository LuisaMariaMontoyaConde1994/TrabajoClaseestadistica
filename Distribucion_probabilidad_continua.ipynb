{
  "nbformat": 4,
  "nbformat_minor": 0,
  "metadata": {
    "colab": {
      "provenance": [],
      "authorship_tag": "ABX9TyM/BkVDId07KiHkca6ps4an",
      "include_colab_link": true
    },
    "kernelspec": {
      "name": "python3",
      "display_name": "Python 3"
    },
    "language_info": {
      "name": "python"
    }
  },
  "cells": [
    {
      "cell_type": "markdown",
      "metadata": {
        "id": "view-in-github",
        "colab_type": "text"
      },
      "source": [
        "<a href=\"https://colab.research.google.com/github/LuisaMariaMontoyaConde1994/TrabajoClaseestadistica/blob/main/Distribucion_probabilidad_continua.ipynb\" target=\"_parent\"><img src=\"https://colab.research.google.com/assets/colab-badge.svg\" alt=\"Open In Colab\"/></a>"
      ]
    },
    {
      "cell_type": "code",
      "execution_count": null,
      "metadata": {
        "id": "Yw5d_BDPNot7"
      },
      "outputs": [],
      "source": [
        "DanielFelipe Castillo"
      ]
    },
    {
      "cell_type": "markdown",
      "source": [
        "$$f(x)= \\left\\{ \\begin{array}{lcc} \\frac{2}{5}(x+2) & si & 0<x<1 \\\\ \\\\ 0 &  & en \\ otro\\  caso &  & \\end{array} \\right.$$\n",
        "\n",
        "$$\\int_{-\\infty}^{\\infty}f(x)dx=\\int_{0}^{1}\\frac{2}{5}(x+2)dx$$"
      ],
      "metadata": {
        "id": "JD4J8x5_N1MV"
      }
    },
    {
      "cell_type": "markdown",
      "source": [
        "a. Demuestre que cumple d.p.g\n",
        "1. Si cumple f(x)>0\n",
        "2. =1\n",
        "$$\\int_{0}^{1}\\frac{2}{5}(x+2)dx=\\frac{2}{5}\\int_{0}^{1}xdx+\\int_{0}^{1}2dx$$\n",
        "\n",
        "$$\\frac{2}{5}\\left(\\frac{x^2}{2}+2x\\right)=\\frac{x^2}{5}+\\frac{4x}{5}$$\n",
        "\n",
        "$$\\left(\\frac{(1)^2}{5}+\\frac{4(1)}{5}\\right)-\\left(\\frac{(0)^2}{5}+\\frac{4(0)}{5}\\right)=\\frac{1}{5}+\\frac{4}{5}=1$$\n",
        "\n",
        "\n",
        "\n"
      ],
      "metadata": {
        "id": "AOX2KcU8OdHd"
      }
    },
    {
      "cell_type": "markdown",
      "source": [],
      "metadata": {
        "id": "uN5UIc0eOkw0"
      }
    },
    {
      "cell_type": "markdown",
      "source": [
        "b. $P\\left(\\frac{1}{4}<x<\\frac{1}{2}\\right)$\n",
        "$$\\left(\\frac{(1/2)^2}{5}+\\frac{4(1/2)}{5}\\right)-\\left(\\frac{(1/4)^2}{5}+\\frac{4(1/4)}{5}\\right)=\\left(\\frac{1}{20}+\\frac{2}{5}\\right)-\\left(\\frac{1}{80}+\\frac{1}{5}\\right)=\\frac{9}{20}-\\frac{17}{80}=\\frac{19}{80}=0.2375$$"
      ],
      "metadata": {
        "id": "xbpgU87jUP9Y"
      }
    },
    {
      "cell_type": "markdown",
      "source": [],
      "metadata": {
        "id": "GPguJuL44UO6"
      }
    }
  ]
}