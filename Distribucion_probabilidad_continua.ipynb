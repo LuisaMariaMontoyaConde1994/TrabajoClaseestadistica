{
  "nbformat": 4,
  "nbformat_minor": 0,
  "metadata": {
    "colab": {
      "provenance": [],
      "authorship_tag": "ABX9TyPW6vifTJ1WtxBzGHxX5xK/",
      "include_colab_link": true
    },
    "kernelspec": {
      "name": "python3",
      "display_name": "Python 3"
    },
    "language_info": {
      "name": "python"
    }
  },
  "cells": [
    {
      "cell_type": "markdown",
      "metadata": {
        "id": "view-in-github",
        "colab_type": "text"
      },
      "source": [
        "<a href=\"https://colab.research.google.com/github/LuisaMariaMontoyaConde1994/TrabajoClaseestadistica/blob/main/Distribucion_probabilidad_continua.ipynb\" target=\"_parent\"><img src=\"https://colab.research.google.com/assets/colab-badge.svg\" alt=\"Open In Colab\"/></a>"
      ]
    },
    {
      "cell_type": "markdown",
      "source": [
        "$$f(x)= \\left\\{\\begin{array}{lcc}2 (x+2)\\over {5} & 0<x<1 &  & o\\ en \\ otro\\  caso &  & \\end{array} \\right.$$"
      ],
      "metadata": {
        "id": "BsVY8hGzIJuz"
      }
    },
    {
      "cell_type": "markdown",
      "source": [
        "**A.) DEMOSTRACION DE DISTRIBUCION DE PROBABILIDAD CONTINUA**"
      ],
      "metadata": {
        "id": "OoWm53iquA5Z"
      }
    },
    {
      "cell_type": "markdown",
      "source": [
        "\n",
        "$$\\int_{0}^{1}\\frac{2(x+2)}{5}=\\frac{2}{5}\\int_{0}^{1}x+2 dx=\\frac{2}{5}\\int_{0}^{1}x dx+\\int_{0}^{1}2 dx=\\frac{2}{5} \\left(\\frac{x^2}{2}+2x\\right)=\\frac{2x^2}{10}+\\frac{4x}{5}=\\frac{1}{5}x^2+\\frac{4}{5}x \\rvert_{0}^{1}$$\n",
        "\n",
        "$$\\frac{1}{5}(1)^2+\\frac{4}{5}(1)-\\frac{1}{5}(0)^2+\\frac{4}{5}(0)=1$$\n"
      ],
      "metadata": {
        "id": "_2cW7E9HLZW1"
      }
    },
    {
      "cell_type": "markdown",
      "source": [
        "*B.*"
      ],
      "metadata": {
        "id": "Giqr9yBxuJ6F"
      }
    },
    {
      "cell_type": "markdown",
      "source": [
        " $$P=\\left(\\frac{1}{4}<x<\\frac{1}{2}\\right) $$\n",
        "$$\\frac{1}{5}x^2+\\frac{4}{5}x \\int_\\frac{1}{4}^\\frac{1}{2}= \\frac{1}{5}\\left(\\frac{1}{2}\\right)^2+\\frac{4}{5}\\left(\\frac{1}{2}\\right)-\\frac{1}{5}\\left(\\frac{1}{4}\\right)^2+\\frac{4}{5}\\left(\\frac{1}{4}\\right)=\\frac{19}{80}=0,237 $$"
      ],
      "metadata": {
        "id": "41XIXQBypeRD"
      }
    }
  ]
}