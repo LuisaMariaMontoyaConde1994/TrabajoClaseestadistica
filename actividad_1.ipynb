{
  "nbformat": 4,
  "nbformat_minor": 0,
  "metadata": {
    "colab": {
      "provenance": [],
      "authorship_tag": "ABX9TyMdw+82qPmZJ1YGgqnJKVp7",
      "include_colab_link": true
    },
    "kernelspec": {
      "name": "python3",
      "display_name": "Python 3"
    },
    "language_info": {
      "name": "python"
    }
  },
  "cells": [
    {
      "cell_type": "markdown",
      "metadata": {
        "id": "view-in-github",
        "colab_type": "text"
      },
      "source": [
        "<a href=\"https://colab.research.google.com/github/LuisaMariaMontoyaConde1994/TrabajoClaseestadistica/blob/main/actividad_1.ipynb\" target=\"_parent\"><img src=\"https://colab.research.google.com/assets/colab-badge.svg\" alt=\"Open In Colab\"/></a>"
      ]
    },
    {
      "cell_type": "markdown",
      "source": [
        "# **CHRISTIAN CAMILO BELTRAN RODRIGUEZ**"
      ],
      "metadata": {
        "id": "73K2jiOFA_e3"
      }
    },
    {
      "cell_type": "code",
      "source": [
        "import numpy as np\n",
        "import matplotlib.pyplot as plt\n",
        "from scipy.stats import binom"
      ],
      "metadata": {
        "id": "wm9ybiHqB5mY"
      },
      "execution_count": 1,
      "outputs": []
    },
    {
      "cell_type": "markdown",
      "source": [
        "En una elección, un candidato tiene una probabilidad del $60\\%$ de recibir un voto en cada votación individual. Si se emiten 20 votos.\n",
        "\n",
        "\n",
        "1.   ¿Cuál es la probabilidad de que al menos obtenga 12 votos?\n",
        "2.   ¿Cuál es la probabilidad de que lo más obtenga 5 votos?\n",
        "3.  ¿Cuál es la probabilidd de que no obtenga votos.\n",
        "4.  ¿Cuál es la probabilidad de que obtenga entre 8 y 10 votos?"
      ],
      "metadata": {
        "id": "uNmIUMqnBZfX"
      }
    },
    {
      "cell_type": "markdown",
      "source": [
        "1. ¿Cuál es la probabilidad de que al menos obtenga 12 votos?\n",
        "\n",
        "$$P(X\\geq 12)=1-P(X< 12)$$"
      ],
      "metadata": {
        "id": "lgwKLKgQCBEg"
      }
    },
    {
      "cell_type": "code",
      "execution_count": 3,
      "metadata": {
        "colab": {
          "base_uri": "https://localhost:8080/"
        },
        "id": "EyVM_BU3Aze3",
        "outputId": "0ba62327-f39f-4b69-b693-543e1bf5fbf5"
      },
      "outputs": [
        {
          "output_type": "stream",
          "name": "stdout",
          "text": [
            "0.5955987253122248\n",
            "La probabilidad es 59.55987253122248 %\n"
          ]
        }
      ],
      "source": [
        "n=20\n",
        "p=0.6\n",
        "x=12\n",
        "prob=1-binom.cdf(x-1,n,p)\n",
        "print(prob)\n",
        "m=prob*100\n",
        "print(\"La probabilidad es\" ,m, \"%\")"
      ]
    },
    {
      "cell_type": "markdown",
      "source": [
        "La probabilidad de que al menos obtenga 12 votos es del $59\\%$"
      ],
      "metadata": {
        "id": "rx0whk7RCeJf"
      }
    },
    {
      "cell_type": "markdown",
      "source": [
        "2. ¿Cuál es la probabilidad de que lo más obtenga 5 votos?\n",
        "\n",
        "$$P(X\\leq 5)$$"
      ],
      "metadata": {
        "id": "_cKpJKxYCroQ"
      }
    },
    {
      "cell_type": "code",
      "source": [
        "n=20\n",
        "p=0.6\n",
        "x=5\n",
        "prob=binom.cdf(x,n,p)\n",
        "print(prob)\n",
        "m=prob*100\n",
        "print(\"La probabilidad es\" ,m, \"%\")"
      ],
      "metadata": {
        "colab": {
          "base_uri": "https://localhost:8080/"
        },
        "id": "fdzxm_KsC2NJ",
        "outputId": "f0427e86-fd8e-489b-b61f-310e7d25a934"
      },
      "execution_count": 4,
      "outputs": [
        {
          "output_type": "stream",
          "name": "stdout",
          "text": [
            "0.001611524643456288\n",
            "La probabilidad es 0.1611524643456288 %\n"
          ]
        }
      ]
    },
    {
      "cell_type": "markdown",
      "source": [
        " la probabilidad de que lo más obtenga 5 votos es del $0.16\\%$"
      ],
      "metadata": {
        "id": "iQ274LvUC-B4"
      }
    },
    {
      "cell_type": "markdown",
      "source": [
        "3. ¿Cuál es la probabilidad de que no obtenga votos?\n",
        "\n"
      ],
      "metadata": {
        "id": "hAs2ahvJDHzI"
      }
    },
    {
      "cell_type": "code",
      "source": [
        "n=20\n",
        "p=0.6\n",
        "x=0\n",
        "prob=binom.cdf(x,n,p)\n",
        "print(prob)\n",
        "m=prob*100\n",
        "print(\"La probabilidad es\" ,m, \"%\")"
      ],
      "metadata": {
        "colab": {
          "base_uri": "https://localhost:8080/"
        },
        "id": "ja2txUp2Ewbi",
        "outputId": "1fe3f80a-2d0e-424e-b081-56d60d2e7c98"
      },
      "execution_count": 16,
      "outputs": [
        {
          "output_type": "stream",
          "name": "stdout",
          "text": [
            "1.0995116277760013e-08\n",
            "La probabilidad es 1.0995116277760013e-06 %\n"
          ]
        }
      ]
    },
    {
      "cell_type": "markdown",
      "source": [
        " probabilidad de que no obtenga votos es de $1\\%$"
      ],
      "metadata": {
        "id": "toa-BmsnH53a"
      }
    },
    {
      "cell_type": "markdown",
      "source": [
        "4. ¿Cuál es la probabilidad de que obtenga entre 8 y 10 votos?"
      ],
      "metadata": {
        "id": "fyXCRjz6FBYa"
      }
    },
    {
      "cell_type": "code",
      "source": [
        "n=20\n",
        "p=0.6\n",
        "x=10\n",
        "prob=binom.cdf(x,n,p)\n",
        "print(prob)\n",
        "w2=prob*100\n",
        "print(\"La probabilidad es\" ,m, \"%\")"
      ],
      "metadata": {
        "colab": {
          "base_uri": "https://localhost:8080/"
        },
        "id": "kxdTm-qWFF2h",
        "outputId": "dc3a30f8-949c-4b07-8e1c-4c0d7645b109"
      },
      "execution_count": 8,
      "outputs": [
        {
          "output_type": "stream",
          "name": "stdout",
          "text": [
            "0.24466279668360685\n",
            "La probabilidad es 24.466279668360684 %\n"
          ]
        }
      ]
    },
    {
      "cell_type": "code",
      "source": [
        "n=20\n",
        "p=0.6\n",
        "x=8\n",
        "prob=binom.cdf(x,n,p)\n",
        "print(prob)\n",
        "w1=prob*100\n",
        "print(\"La probabilidad es\" ,m, \"%\")"
      ],
      "metadata": {
        "colab": {
          "base_uri": "https://localhost:8080/"
        },
        "id": "8GVcNBCjG7Zb",
        "outputId": "40853de7-c7d3-4100-b37e-148f91447a26"
      },
      "execution_count": 14,
      "outputs": [
        {
          "output_type": "stream",
          "name": "stdout",
          "text": [
            "0.056526367034253025\n",
            "La probabilidad es 24.466279668360684 %\n"
          ]
        }
      ]
    },
    {
      "cell_type": "code",
      "source": [
        "w2-w1\n",
        "print('la probabilidad es' ,w2-w1, '%')"
      ],
      "metadata": {
        "colab": {
          "base_uri": "https://localhost:8080/"
        },
        "id": "fnbeuZNoGVTi",
        "outputId": "52ee6f26-6b43-4d0c-bf0c-e02e3f5d3d0d"
      },
      "execution_count": 15,
      "outputs": [
        {
          "output_type": "stream",
          "name": "stdout",
          "text": [
            "la probabilidad es 18.813642964935383 %\n"
          ]
        }
      ]
    },
    {
      "cell_type": "markdown",
      "source": [
        "la probabilidad de que obtenga entre 8 y 10 votos es del  $18.81\\%$"
      ],
      "metadata": {
        "id": "3Mnn5ZWmHTrr"
      }
    }
  ]
}