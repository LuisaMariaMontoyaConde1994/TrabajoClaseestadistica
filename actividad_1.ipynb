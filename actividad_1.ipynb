{
  "nbformat": 4,
  "nbformat_minor": 0,
  "metadata": {
    "colab": {
      "provenance": [],
      "authorship_tag": "ABX9TyOm0s0NHF9Us9MFyA2UrHDV",
      "include_colab_link": true
    },
    "kernelspec": {
      "name": "python3",
      "display_name": "Python 3"
    },
    "language_info": {
      "name": "python"
    }
  },
  "cells": [
    {
      "cell_type": "markdown",
      "metadata": {
        "id": "view-in-github",
        "colab_type": "text"
      },
      "source": [
        "<a href=\"https://colab.research.google.com/github/LuisaMariaMontoyaConde1994/TrabajoClaseestadistica/blob/main/actividad_1.ipynb\" target=\"_parent\"><img src=\"https://colab.research.google.com/assets/colab-badge.svg\" alt=\"Open In Colab\"/></a>"
      ]
    },
    {
      "cell_type": "code",
      "source": [
        "import numpy as np\n",
        "import matplotlib.pyplot as plt\n",
        "from scipy.stats import binom"
      ],
      "metadata": {
        "id": "jlX4SGoCCGzf"
      },
      "execution_count": null,
      "outputs": []
    },
    {
      "cell_type": "markdown",
      "source": [
        "# **Laura Alejandra Rey Ducuara**"
      ],
      "metadata": {
        "id": "NpJD72ebOKnC"
      }
    },
    {
      "cell_type": "markdown",
      "source": [
        "En una elección, un candidato tiene una probabilidad del $60\\%$ de recibir un voto en cada votación individual. Si se emiten 20 votos.\n",
        "\n",
        "\n",
        "1.   ¿Cuál es la probabilidad de que al menos obtenga 12 votos?\n",
        "2.   ¿Cuál es la probabilidad de que lo más obtenga 5 votos?\n",
        "3.  ¿Cuál es la probabilidd de que no obtenga votos.\n",
        "4.  ¿Cuál es la probabilidad de que obtenga entre 8 y 10 votos?\n"
      ],
      "metadata": {
        "id": "CQ6E_wWnBWkI"
      }
    },
    {
      "cell_type": "markdown",
      "source": [
        "**1. ¿Cuál es la probabilidad de que al menos obtenga 12 votos?**\n",
        "$$P(X=12)=\\binom{20}{12}(0.6)^{12}(0.4)^{20-12}$$\n",
        "$$\\approx 0.59$$\n",
        "$$\\approx 0.59(100\\%)=59\\%$$\n",
        "\n",
        "$$P(X\\geq 12)=1-P(X< 12)$$"
      ],
      "metadata": {
        "id": "swuJQHLHDLvI"
      }
    },
    {
      "cell_type": "code",
      "source": [
        "n=20\n",
        "p=0.6\n",
        "x=12\n",
        "prob=1-binom.cdf(x-1,n,p)\n",
        "print(prob)\n",
        "m=prob*100\n",
        "print('La probabilidad es ' ,m, '%')"
      ],
      "metadata": {
        "colab": {
          "base_uri": "https://localhost:8080/"
        },
        "id": "KFMIA0QgEPzg",
        "outputId": "09d44f39-f144-4a73-9744-10cd4d4675a7"
      },
      "execution_count": null,
      "outputs": [
        {
          "output_type": "stream",
          "name": "stdout",
          "text": [
            "0.5955987253122248\n",
            "La probabilidad es  59.55987253122248 %\n"
          ]
        }
      ]
    },
    {
      "cell_type": "markdown",
      "source": [
        "La probabilidad de que a lo menos obtenga 12 votos, es de $59\\%$ aproximadamente."
      ],
      "metadata": {
        "id": "yhMA3162KTqT"
      }
    },
    {
      "cell_type": "markdown",
      "source": [
        "**2. ¿Cuál es la probabilidad de que lo más obtenga 5 votos?**\n",
        "$$P(X≤5)$$"
      ],
      "metadata": {
        "id": "-r85NyuDFpqo"
      }
    },
    {
      "cell_type": "code",
      "source": [
        "n=20\n",
        "p=0.6\n",
        "x=5\n",
        "prob=binom.cdf(x,n,p)\n",
        "print(prob)\n",
        "m=prob*100\n",
        "print('La probabilidad es ' ,m, '%')"
      ],
      "metadata": {
        "colab": {
          "base_uri": "https://localhost:8080/"
        },
        "id": "fnOn3qmfHIiK",
        "outputId": "0133734c-01d8-468f-efc0-5635da907916"
      },
      "execution_count": null,
      "outputs": [
        {
          "output_type": "stream",
          "name": "stdout",
          "text": [
            "0.001611524643456288\n",
            "La probabilidad es  0.1611524643456288 %\n"
          ]
        }
      ]
    },
    {
      "cell_type": "markdown",
      "source": [
        "La probabilidad de que a lo más obtenga 5 votos, es de $16\\%$ aproximadamente."
      ],
      "metadata": {
        "id": "0m3JjG9bKIfh"
      }
    },
    {
      "cell_type": "markdown",
      "source": [
        "**3.  ¿Cuál es la probabilidad de que no obtenga votos?**\n",
        "$$P(X=0)$$"
      ],
      "metadata": {
        "id": "T1g8qtPvIEwA"
      }
    },
    {
      "cell_type": "code",
      "source": [
        "n=20\n",
        "p=0.6\n",
        "x=0\n",
        "prob=binom.cdf(x,n,p)\n",
        "print(prob)\n",
        "m=prob*100\n",
        "print('La probabilidad es ' ,m, '%')"
      ],
      "metadata": {
        "colab": {
          "base_uri": "https://localhost:8080/"
        },
        "id": "d3bq22B4IPtw",
        "outputId": "fefe0439-a833-40ac-ae15-aa4d25136457"
      },
      "execution_count": null,
      "outputs": [
        {
          "output_type": "stream",
          "name": "stdout",
          "text": [
            "1.0995116277760013e-08\n",
            "La probabilidad es  1.0995116277760013e-06 %\n"
          ]
        }
      ]
    },
    {
      "cell_type": "markdown",
      "source": [
        "La probabilidad de que no obtenga votos, es de $100\\%$ aproximadamente."
      ],
      "metadata": {
        "id": "pckB9lhzKhoB"
      }
    },
    {
      "cell_type": "markdown",
      "source": [
        "**4.  ¿Cuál es la probabilidad de que obtenga entre 8 y 10 votos?**\n",
        "$$P(8\\leq P(X)≤10))$$"
      ],
      "metadata": {
        "id": "H8SYj8p2I4Rx"
      }
    },
    {
      "cell_type": "code",
      "source": [
        "n=20\n",
        "p=0.6\n",
        "x=8\n",
        "prob=binom.cdf(x,n,p)\n",
        "print(prob)\n",
        "m=prob*100\n",
        "print('La probabilidad de 8 es ' ,m, '%')"
      ],
      "metadata": {
        "colab": {
          "base_uri": "https://localhost:8080/"
        },
        "id": "8H4UPfSRIHC3",
        "outputId": "a20557ab-4a0e-4784-c915-62ca2fc3ee90"
      },
      "execution_count": null,
      "outputs": [
        {
          "output_type": "stream",
          "name": "stdout",
          "text": [
            "0.056526367034253025\n",
            "La probabilidad de 8 es  5.652636703425302 %\n"
          ]
        }
      ]
    },
    {
      "cell_type": "code",
      "source": [
        "n=20\n",
        "p=0.6\n",
        "x=10\n",
        "prob=binom.cdf(x,n,p)\n",
        "print(prob)\n",
        "m=prob*100\n",
        "print('La probabilidad de 10 es ' ,m, '%')"
      ],
      "metadata": {
        "colab": {
          "base_uri": "https://localhost:8080/"
        },
        "id": "4aGnUloyJa5y",
        "outputId": "4448a285-79ab-4f75-ffc3-b67ba4402818"
      },
      "execution_count": null,
      "outputs": [
        {
          "output_type": "stream",
          "name": "stdout",
          "text": [
            "0.24466279668360685\n",
            "La probabilidad de 10 es  24.466279668360684 %\n"
          ]
        }
      ]
    },
    {
      "cell_type": "code",
      "source": [
        "0.24466279668360685-0.056526367034253025"
      ],
      "metadata": {
        "colab": {
          "base_uri": "https://localhost:8080/"
        },
        "id": "pKiELRVXJ68g",
        "outputId": "33b72309-c0fe-4d08-d3a3-23ad47a42361"
      },
      "execution_count": null,
      "outputs": [
        {
          "output_type": "execute_result",
          "data": {
            "text/plain": [
              "0.18813642964935384"
            ]
          },
          "metadata": {},
          "execution_count": 15
        }
      ]
    },
    {
      "cell_type": "markdown",
      "source": [
        "La probabilidad de que obtenga entre 8 y 10 votos, es de $18\\%$ aproximadamente."
      ],
      "metadata": {
        "id": "P-r1CgYtKshB"
      }
    }
  ]
}