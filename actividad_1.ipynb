{
  "nbformat": 4,
  "nbformat_minor": 0,
  "metadata": {
    "colab": {
      "provenance": [],
      "authorship_tag": "ABX9TyMSZa6QxFR530pTMu5p6C7e",
      "include_colab_link": true
    },
    "kernelspec": {
      "name": "python3",
      "display_name": "Python 3"
    },
    "language_info": {
      "name": "python"
    }
  },
  "cells": [
    {
      "cell_type": "markdown",
      "metadata": {
        "id": "view-in-github",
        "colab_type": "text"
      },
      "source": [
        "<a href=\"https://colab.research.google.com/github/LuisaMariaMontoyaConde1994/TrabajoClaseestadistica/blob/main/actividad_1.ipynb\" target=\"_parent\"><img src=\"https://colab.research.google.com/assets/colab-badge.svg\" alt=\"Open In Colab\"/></a>"
      ]
    },
    {
      "cell_type": "code",
      "execution_count": null,
      "metadata": {
        "id": "eo9YhZEHA6M1"
      },
      "outputs": [],
      "source": [
        "#Daniel Felipe Castillo"
      ]
    },
    {
      "cell_type": "code",
      "source": [
        "import numpy as np\n",
        "import matplotlib.pyplot as plt\n",
        "from scipy.stats import binom"
      ],
      "metadata": {
        "id": "JOJihFiXCf1A"
      },
      "execution_count": 4,
      "outputs": []
    },
    {
      "cell_type": "markdown",
      "source": [
        "En una elección, un candidato tiene una probabilidad del $60\\%$ de recibir un voto en cada votación individual. Si se emiten 20 votos.\n",
        "1. cual es la probabilidad de que al menos obtenga 12 votos?\n",
        "2. Cual es la probabilidad de que a lo mas obtenga 5 votos?\n",
        "3. cual es la probabilidad de que no obtenga votos?\n",
        "4. cual es la probabilidad que obtenga entre 10 y 8 votos?"
      ],
      "metadata": {
        "id": "s9WEwJo_BGpR"
      }
    },
    {
      "cell_type": "markdown",
      "source": [
        "respuesta1"
      ],
      "metadata": {
        "id": "UXX0oiWQB0gp"
      }
    },
    {
      "cell_type": "code",
      "source": [
        "n=20\n",
        "p=0.6\n",
        "x=12\n",
        "prob= 1-binom.cdf(x-1,n,p)\n",
        "m=prob*100\n",
        "print(prob)\n",
        "print('la probabilidad es' ,m,'%')"
      ],
      "metadata": {
        "colab": {
          "base_uri": "https://localhost:8080/"
        },
        "id": "LH5m2TW1Bu6M",
        "outputId": "4d9ae067-04d1-44f9-a665-161e7da70535"
      },
      "execution_count": 7,
      "outputs": [
        {
          "output_type": "stream",
          "name": "stdout",
          "text": [
            "0.5955987253122248\n",
            "la probabilidad es 59.55987253122248 %\n"
          ]
        }
      ]
    },
    {
      "cell_type": "markdown",
      "source": [
        "La probabilidad de que al menos tenga 12 votos es de 59.55987253122248 %"
      ],
      "metadata": {
        "id": "Qv1M-brbHOxx"
      }
    },
    {
      "cell_type": "markdown",
      "source": [
        "rta2"
      ],
      "metadata": {
        "id": "LPBBn58fDOja"
      }
    },
    {
      "cell_type": "code",
      "source": [
        "n=20\n",
        "p=0.6\n",
        "x=5\n",
        "prob=binom.cdf(x,n,p)\n",
        "m=prob*100\n",
        "print(prob)\n",
        "print('la probabilidad es' ,m,'%')"
      ],
      "metadata": {
        "colab": {
          "base_uri": "https://localhost:8080/"
        },
        "id": "0_NqkerFDPnp",
        "outputId": "12b38639-8620-41dc-862e-36998a7c5daa"
      },
      "execution_count": 8,
      "outputs": [
        {
          "output_type": "stream",
          "name": "stdout",
          "text": [
            "0.001611524643456288\n",
            "la probabilidad es 0.1611524643456288 %\n"
          ]
        }
      ]
    },
    {
      "cell_type": "markdown",
      "source": [
        "La probabiliodad de que a lo mas obtenga 5 votos es de 0.1611524643456288 %"
      ],
      "metadata": {
        "id": "udzxOGKTHU7B"
      }
    },
    {
      "cell_type": "markdown",
      "source": [
        "rta3"
      ],
      "metadata": {
        "id": "rilEFMgNDmeJ"
      }
    },
    {
      "cell_type": "code",
      "source": [
        "n=20\n",
        "p=0.6\n",
        "x=0\n",
        "prob=binom.pmf(x,n,p)\n",
        "m=prob*100\n",
        "print(prob)\n",
        "print('la probabilidad es' ,m,'%')"
      ],
      "metadata": {
        "colab": {
          "base_uri": "https://localhost:8080/"
        },
        "id": "jSeFagZ3Dneh",
        "outputId": "1b5f8f3e-836d-4323-c0aa-c2dc908ffd34"
      },
      "execution_count": 9,
      "outputs": [
        {
          "output_type": "stream",
          "name": "stdout",
          "text": [
            "1.0995116277760013e-08\n",
            "la probabilidad es 1.0995116277760013e-06 %\n"
          ]
        }
      ]
    },
    {
      "cell_type": "markdown",
      "source": [
        "La probabilidad de que no obtenga votos es de 1.0995116277760013e-06 %"
      ],
      "metadata": {
        "id": "0y7lf6iRHe8v"
      }
    },
    {
      "cell_type": "markdown",
      "source": [
        "rta4"
      ],
      "metadata": {
        "id": "bMTEB5PaEnp4"
      }
    },
    {
      "cell_type": "code",
      "source": [
        "n=20\n",
        "p=0.6\n",
        "x=10\n",
        "prob=binom.cdf(x,n,p)\n",
        "m=prob*100\n",
        "print(prob)\n",
        "print('la probabilidad es' ,m,'%')"
      ],
      "metadata": {
        "colab": {
          "base_uri": "https://localhost:8080/"
        },
        "id": "Tah-zxawEo8A",
        "outputId": "ed67a45e-9cc4-44cb-b7c3-cb92e16bb6a6"
      },
      "execution_count": 11,
      "outputs": [
        {
          "output_type": "stream",
          "name": "stdout",
          "text": [
            "0.24466279668360685\n",
            "la probabilidad es 24.466279668360684 %\n"
          ]
        }
      ]
    },
    {
      "cell_type": "code",
      "source": [
        "n=20\n",
        "p=0.6\n",
        "x=8\n",
        "prob=binom.cdf(x,n,p)\n",
        "m=prob*100\n",
        "print(prob)\n",
        "print('la probabilidad es' ,m,'%')"
      ],
      "metadata": {
        "colab": {
          "base_uri": "https://localhost:8080/"
        },
        "id": "iXoT2UtlFvrp",
        "outputId": "d0d91162-03b2-47f9-c2f9-05d7eb99f92f"
      },
      "execution_count": 12,
      "outputs": [
        {
          "output_type": "stream",
          "name": "stdout",
          "text": [
            "0.056526367034253025\n",
            "la probabilidad es 5.652636703425302 %\n"
          ]
        }
      ]
    },
    {
      "cell_type": "code",
      "source": [
        "(0.24466279668360685-0.056526367034253025)*100"
      ],
      "metadata": {
        "colab": {
          "base_uri": "https://localhost:8080/"
        },
        "id": "TSZyY0hqF_Vg",
        "outputId": "c83785dd-3273-438a-e8a4-0c55ba3779cd"
      },
      "execution_count": 14,
      "outputs": [
        {
          "output_type": "execute_result",
          "data": {
            "text/plain": [
              "18.813642964935383"
            ]
          },
          "metadata": {},
          "execution_count": 14
        }
      ]
    },
    {
      "cell_type": "markdown",
      "source": [
        "La probabilidad que obtenga entre 8 y 10 votos es de 18.813642964935383%"
      ],
      "metadata": {
        "id": "5WEhDUMMHnDP"
      }
    }
  ]
}