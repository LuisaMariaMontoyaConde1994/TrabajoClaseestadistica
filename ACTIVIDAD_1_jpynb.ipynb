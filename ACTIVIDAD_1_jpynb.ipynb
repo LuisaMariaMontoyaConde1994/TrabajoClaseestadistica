{
  "nbformat": 4,
  "nbformat_minor": 0,
  "metadata": {
    "colab": {
      "provenance": [],
      "authorship_tag": "ABX9TyMXIPnXxwY5gF54BjRpkcAT",
      "include_colab_link": true
    },
    "kernelspec": {
      "name": "python3",
      "display_name": "Python 3"
    },
    "language_info": {
      "name": "python"
    }
  },
  "cells": [
    {
      "cell_type": "markdown",
      "metadata": {
        "id": "view-in-github",
        "colab_type": "text"
      },
      "source": [
        "<a href=\"https://colab.research.google.com/github/LuisaMariaMontoyaConde1994/TrabajoClaseestadistica/blob/main/ACTIVIDAD_1_jpynb.ipynb\" target=\"_parent\"><img src=\"https://colab.research.google.com/assets/colab-badge.svg\" alt=\"Open In Colab\"/></a>"
      ]
    },
    {
      "cell_type": "markdown",
      "source": [
        "JULIETH ALEJANDRA MOLANO LADINO"
      ],
      "metadata": {
        "id": "3r-9jMdMJgWV"
      }
    },
    {
      "cell_type": "markdown",
      "source": [
        "En una elección, un candidato tiene una probabilidad del $60\\%$ de recibir un voto en cada votación individual. Si se emiten 20 votos.\n",
        "\n",
        "\n",
        "1.   ¿Cuál es la probabilidad de que al menos obtenga 12 votos?\n",
        "2.   ¿Cuál es la probabilidad de que lo más obtenga 5 votos?\n",
        "3.  ¿Cuál es la probabilidd de que no obtenga votos.\n",
        "4.  ¿Cuál es la probabilidad de que obtenga entre 8 y 10 votos?"
      ],
      "metadata": {
        "id": "4WYFNczjBPMS"
      }
    },
    {
      "cell_type": "code",
      "source": [
        "import numpy as np\n",
        "import matplotlib.pyplot as plt\n",
        "from scipy.stats import binom"
      ],
      "metadata": {
        "id": "QTrOKj2EBnFa"
      },
      "execution_count": 1,
      "outputs": []
    },
    {
      "cell_type": "code",
      "source": [
        "n=20\n",
        "p=0.6\n",
        "x=12\n",
        "prob=1-binom.cdf(x-1,n,p)\n",
        "print(prob)\n",
        "m=prob*100\n",
        "print('la probabilidad es',m,'%')"
      ],
      "metadata": {
        "colab": {
          "base_uri": "https://localhost:8080/"
        },
        "id": "aHCW5PcGCsgM",
        "outputId": "007bd2e1-b34d-4614-e7ff-a449278f3752"
      },
      "execution_count": 8,
      "outputs": [
        {
          "output_type": "stream",
          "name": "stdout",
          "text": [
            "0.5955987253122248\n",
            "la probabilidad es 59.55987253122248 %\n"
          ]
        }
      ]
    },
    {
      "cell_type": "markdown",
      "source": [
        "La probabilidad de que al menos obtenga 12 votos es de $59\\%$ aproximadamente."
      ],
      "metadata": {
        "id": "DXLow6M2DGR0"
      }
    },
    {
      "cell_type": "code",
      "source": [
        "n=20\n",
        "p=0.6\n",
        "x=5\n",
        "prob=binom.cdf(x,n,p)\n",
        "print(prob)\n",
        "m=prob*100\n",
        "print('la probabilidad es',m,'%')"
      ],
      "metadata": {
        "colab": {
          "base_uri": "https://localhost:8080/"
        },
        "id": "-UzSgFL-Db4t",
        "outputId": "07eeb9bb-4a2b-457b-a7e5-5843cc14dd38"
      },
      "execution_count": 9,
      "outputs": [
        {
          "output_type": "stream",
          "name": "stdout",
          "text": [
            "0.001611524643456288\n",
            "la probabilidad es 0.1611524643456288 %\n"
          ]
        }
      ]
    },
    {
      "cell_type": "markdown",
      "source": [
        "La probabilidad de que a lo mas obtenga 5 votos es de $16\\%$ aproximadamente."
      ],
      "metadata": {
        "id": "fxchO3-zDmt1"
      }
    },
    {
      "cell_type": "code",
      "source": [
        "n=20\n",
        "p=0.6\n",
        "x=0\n",
        "prob=binom.cdf(x,n,p)\n",
        "print(prob)\n",
        "m=prob*100\n",
        "print('la probabilidad es',m,'%')"
      ],
      "metadata": {
        "colab": {
          "base_uri": "https://localhost:8080/"
        },
        "id": "gmSAvMK4EGUW",
        "outputId": "4cc9ebc9-599d-4bb2-cc0b-37468f291cb8"
      },
      "execution_count": 13,
      "outputs": [
        {
          "output_type": "stream",
          "name": "stdout",
          "text": [
            "1.0995116277760013e-08\n",
            "la probabilidad es 1.0995116277760013e-06 %\n"
          ]
        }
      ]
    },
    {
      "cell_type": "markdown",
      "source": [
        "La probabilidad de que no obtenga votos es de $1.0995116277760013e-06\\%$ aproximadamente.\n",
        "\n",
        "---\n",
        "\n"
      ],
      "metadata": {
        "id": "06tATyD_Ew5v"
      }
    },
    {
      "cell_type": "code",
      "source": [
        "n=20\n",
        "p=0.6\n",
        "x=10\n",
        "prob=binom.cdf(x,n,p)\n",
        "print(prob)\n",
        "m=prob*100\n",
        "print('la probabilidad es',m,'%')"
      ],
      "metadata": {
        "colab": {
          "base_uri": "https://localhost:8080/"
        },
        "id": "O4qAmkXAFAhd",
        "outputId": "e5756609-2581-453c-ad66-77f11d419d8b"
      },
      "execution_count": 19,
      "outputs": [
        {
          "output_type": "stream",
          "name": "stdout",
          "text": [
            "0.24466279668360685\n",
            "la probabilidad es 24.466279668360684 %\n"
          ]
        }
      ]
    },
    {
      "cell_type": "code",
      "source": [
        "n=20\n",
        "p=0.6\n",
        "x=8\n",
        "prob=binom.cdf(x,n,p)\n",
        "print(prob)\n",
        "m=prob*100\n",
        "print('la probabilidad es',m,'%')"
      ],
      "metadata": {
        "colab": {
          "base_uri": "https://localhost:8080/"
        },
        "id": "rKz2jEKQGCIo",
        "outputId": "af0c2fe0-dffd-401b-df3c-ca5b566ddd42"
      },
      "execution_count": 18,
      "outputs": [
        {
          "output_type": "stream",
          "name": "stdout",
          "text": [
            "0.056526367034253025\n",
            "la probabilidad es 5.652636703425302 %\n"
          ]
        }
      ]
    },
    {
      "cell_type": "code",
      "source": [
        "24.466279668360684-5.652636703425302"
      ],
      "metadata": {
        "colab": {
          "base_uri": "https://localhost:8080/"
        },
        "id": "xjqk9nU1GaBo",
        "outputId": "95d2f1d5-7581-4aa0-fec7-6af00e51643a"
      },
      "execution_count": 20,
      "outputs": [
        {
          "output_type": "execute_result",
          "data": {
            "text/plain": [
              "18.813642964935383"
            ]
          },
          "metadata": {},
          "execution_count": 20
        }
      ]
    },
    {
      "cell_type": "markdown",
      "source": [
        "La probabilidad de que obtenga entre 8 y 10 votos es de $18\\%$ aproximadamente"
      ],
      "metadata": {
        "id": "yXQcOcMkGrya"
      }
    }
  ]
}