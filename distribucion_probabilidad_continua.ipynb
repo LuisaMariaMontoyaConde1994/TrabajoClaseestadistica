{
  "nbformat": 4,
  "nbformat_minor": 0,
  "metadata": {
    "colab": {
      "provenance": [],
      "authorship_tag": "ABX9TyP/oq5aUt/RuJhcE0+cNaXs",
      "include_colab_link": true
    },
    "kernelspec": {
      "name": "python3",
      "display_name": "Python 3"
    },
    "language_info": {
      "name": "python"
    }
  },
  "cells": [
    {
      "cell_type": "markdown",
      "metadata": {
        "id": "view-in-github",
        "colab_type": "text"
      },
      "source": [
        "<a href=\"https://colab.research.google.com/github/LuisaMariaMontoyaConde1994/TrabajoClaseestadistica/blob/main/distribucion_probabilidad_continua.ipynb\" target=\"_parent\"><img src=\"https://colab.research.google.com/assets/colab-badge.svg\" alt=\"Open In Colab\"/></a>"
      ]
    },
    {
      "cell_type": "markdown",
      "source": [
        "**YEISON DAVID LEON HERNADEZ**"
      ],
      "metadata": {
        "id": "JW8kpmg8Xtw6"
      }
    },
    {
      "cell_type": "code",
      "execution_count": null,
      "metadata": {
        "id": "4F92TQ0jNA7W"
      },
      "outputs": [],
      "source": []
    },
    {
      "cell_type": "markdown",
      "source": [
        "La proporcin de personas que responde a cierta encuesta enviada por correo V.A continua\n",
        "\n",
        "$$f(x)= \\left\\{ \\begin{array}{lcc} \\frac{2}{5}(x+2) & si & 0<x<1 \\\\ \\\\ 0 &  & en \\ otro\\  caso &  & \\end{array} \\right.$$\n",
        "\n",
        "$$\\int_{-\\infty}^{\\infty}f(x)dx=\\int_{0}^{1}\\frac{2}{5}(x+2)dx$$\n",
        "\n",
        "1. demuestre si cumple d.p.c\n",
        "2. $p(\\frac{1}{4}<x<\\frac{1}{2})$\n",
        "\n",
        "solucion\n",
        "\n",
        "1.\n",
        "$$\\int_{0}^{1}\\frac{2}{5}(x+2)dx$$\n",
        "$$=\\frac{x^2}{5}+\\frac{4x}{5}+C$$\n",
        "$$=\\frac{(1)^2}{5}+\\frac{4(1)}{5}-\\frac{(0)^2}{5}+\\frac{(0)}{5}$$\n",
        "$$=1$$\n",
        "si se cumple la D.P.C porque nos da 1\n",
        "\n",
        "2.\n",
        "$$\\int_{\\frac{1}{4}}^{\\frac{1}{2}}\\frac{2}{5}(x+2)dx$$\n",
        "$$=\\frac{x^2}{5}+\\frac{4x}{5}+C$$\n",
        "$$=\\frac{\\left(\\frac{1}{2}\\right)^{2}}{5}+\\frac{4\\left(\\frac{1}{2}\\right)}{5}-\\frac{\\left(\\frac{1}{4}\\right)^{2}}{5}+\\frac{4\\left(\\frac{1}{4}\\right)}{5}$$\n",
        "$$=\\frac{9}{20}-\\frac{17}{80}$$\n",
        "$$=\\frac{19}{80}=0.2375$$"
      ],
      "metadata": {
        "id": "RHdaUuUyNBeN"
      }
    }
  ]
}