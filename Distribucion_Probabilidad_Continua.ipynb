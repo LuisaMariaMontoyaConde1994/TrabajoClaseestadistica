{
  "nbformat": 4,
  "nbformat_minor": 0,
  "metadata": {
    "colab": {
      "provenance": [],
      "authorship_tag": "ABX9TyOdNazZ8OGBP7likUvWQqmV",
      "include_colab_link": true
    },
    "kernelspec": {
      "name": "python3",
      "display_name": "Python 3"
    },
    "language_info": {
      "name": "python"
    }
  },
  "cells": [
    {
      "cell_type": "markdown",
      "metadata": {
        "id": "view-in-github",
        "colab_type": "text"
      },
      "source": [
        "<a href=\"https://colab.research.google.com/github/LuisaMariaMontoyaConde1994/TrabajoClaseestadistica/blob/main/Distribucion_Probabilidad_Continua.ipynb\" target=\"_parent\"><img src=\"https://colab.research.google.com/assets/colab-badge.svg\" alt=\"Open In Colab\"/></a>"
      ]
    },
    {
      "cell_type": "markdown",
      "source": [
        "Julieth Alejandra Molano Ladino"
      ],
      "metadata": {
        "id": "Hb6Pw5hNOH0X"
      }
    },
    {
      "cell_type": "markdown",
      "source": [
        "La proporcion de personas que responden a cierta encuesta evaluada por correo de una variable aleatoria- continua.\n",
        "\n",
        "A) Demuestre si cumple D.P.G.\n",
        "\n",
        "B)P(1/4 < X < 1/2 )\n",
        "\n"
      ],
      "metadata": {
        "id": "VewdIP3zOWim"
      }
    },
    {
      "cell_type": "markdown",
      "source": [
        "$$f(x)= \\left\\{ \\begin{array}{lcc} \\frac{2}{5}(x+2) & si & 0<x<1 \\\\ \\\\ 0 &  & en \\ otro\\  caso &  & \\end{array} \\right.$$\n",
        "\n",
        "$$\\int_{-\\infty}^{\\infty}f(x)dx=\\int_{0}^{1}\\frac{2}{5}(x+2)dx$$\n",
        "\n",
        "SOLUCION:\n",
        "\n",
        "\n",
        "A) $p(\\frac{1}{4}<x<\\frac{1}{2})$\n",
        "$$\\int_{0}^{1}\\frac{2}{5}(x+2)dx$$\n",
        "$$=\\frac{x^2}{5}+\\frac{4x}{5}+C$$\n",
        "$$=\\frac{1^2}{5}+\\frac{4}{5}-\\frac{0^2}{5}+\\frac{0}{5}$$\n",
        "$$=1$$\n",
        "\n",
        "RTA// Si se cumple la D.P.G porque nos da uno.\n",
        "\n",
        "B) $$\\int_{\\frac{1}{4}}^{\\frac{1}{2}}\\frac{2}{5}(x+2)dx$$\n",
        "$$=\\frac{x^2}{5}+\\frac{4x}{5}+C$$\n",
        "$$=\\frac{\\left(\\frac{1}{2}\\right)^{2}}{5}+\\frac{4\\left(\\frac{1}{2}\\right)}{5}-\\frac{\\left(\\frac{1}{4}\\right)^{2}}{5}+\\frac{4\\left(\\frac{1}{4}\\right)}{5}$$\n",
        "$$=\\frac{9}{20}-\\frac{17}{80}$$\n",
        "$$=\\frac{19}{80}=0.2375$$\n",
        "\n",
        "\n",
        "\n",
        "\n"
      ],
      "metadata": {
        "id": "4kQrcJJkOMD-"
      }
    }
  ]
}