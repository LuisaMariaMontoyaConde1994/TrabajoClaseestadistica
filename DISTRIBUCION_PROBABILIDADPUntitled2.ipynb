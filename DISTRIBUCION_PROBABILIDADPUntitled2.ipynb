{
  "nbformat": 4,
  "nbformat_minor": 0,
  "metadata": {
    "colab": {
      "provenance": [],
      "authorship_tag": "ABX9TyNQHVXCwh6/t+aYtPaMYdOg",
      "include_colab_link": true
    },
    "kernelspec": {
      "name": "python3",
      "display_name": "Python 3"
    },
    "language_info": {
      "name": "python"
    }
  },
  "cells": [
    {
      "cell_type": "markdown",
      "metadata": {
        "id": "view-in-github",
        "colab_type": "text"
      },
      "source": [
        "<a href=\"https://colab.research.google.com/github/LuisaMariaMontoyaConde1994/TrabajoClaseestadistica/blob/main/DISTRIBUCION_PROBABILIDADPUntitled2.ipynb\" target=\"_parent\"><img src=\"https://colab.research.google.com/assets/colab-badge.svg\" alt=\"Open In Colab\"/></a>"
      ]
    },
    {
      "cell_type": "markdown",
      "source": [
        "valentina cardenas medina\n"
      ],
      "metadata": {
        "id": "HEq7WKDONq1c"
      }
    },
    {
      "cell_type": "markdown",
      "source": [
        "la probabilidad de personas que responden a cierta encuesta enviada por correo v.a continua.\n",
        "a) demuestre si cumple d.p.g\n",
        "b) p(1/4< x < 1/2\n",
        "$$f(x)= \\left\\{ \\begin{array}{lcc} \\frac{2}{5}(x+2) & si & 0<x<1 \\\\ \\\\ 0 &  & en \\ otro\\  caso &  & \\end{array} \\right.$$\n",
        "\n",
        "$$\\int_{-\\infty}^{\\infty}f(x)dx=\\int_{0}^{1}\\frac{2}{5}(x+2)dx$$\n",
        "\n",
        "solucion:\n",
        "\n",
        "a) $$p(\\frac{1}{4}<x<\\frac{1}{2})$$\n",
        "\n",
        "$$\\int_{0}^{1}\\frac{2}{5}(x+2)dx$$\n",
        "\n",
        "$$=\\frac{x^2}{5}+\\frac{4x}{5}+c$$\n",
        "\n",
        "\n",
        "\n",
        "\n",
        "$$=\\frac{1^2}{5}+\\frac{4}{5}-\\frac{0^2}{5}+\\frac{0}{5}$$\n",
        "$$=1$$\n",
        "\n",
        "si cumple la d.p.g ya que su resultado es 1\n",
        "\n",
        "\n",
        "B) $$\\int_{\\frac{1}{4}}^{\\frac{1}{2}}\\frac{2}{5}(x+2)dx$$\n",
        "$$=\\frac{x^2}{5}+\\frac{4x}{5}+C$$\n",
        "$$=\\frac{\\left(\\frac{1}{2}\\right)^{2}}{5}+\\frac{4\\left(\\frac{1}{2}\\right)}{5}-\\frac{\\left(\\frac{1}{4}\\right)^{2}}{5}+\\frac{4\\left(\\frac{1}{4}\\right)}{5}$$\n",
        "$$=\\frac{9}{20}-\\frac{17}{80}$$\n",
        "$$=\\frac{19}{80}=0.2375$$\n",
        "\n"
      ],
      "metadata": {
        "id": "xnsnfjudOkJ1"
      }
    }
  ]
}